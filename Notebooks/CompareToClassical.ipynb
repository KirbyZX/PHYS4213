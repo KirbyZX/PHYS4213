{
 "cells": [
  {
   "cell_type": "code",
   "execution_count": 8,
   "metadata": {},
   "outputs": [],
   "source": [
    "import pickle\n",
    "from time import time\n",
    "import dimod\n",
    "from dwave.system import DWaveSampler, EmbeddingComposite\n",
    "from dwave.samplers import SteepestDescentSolver\n",
    "\n",
    "identifier = \"opus74\"\n",
    "\n",
    "phraseStack = pickle.load(open(f\"../Pickles/{identifier}_phraseStack.pkl\", \"rb\"))\n",
    "SimpleG = pickle.load(open(f\"../Pickles/{identifier}_simpleGraph.pkl\", \"rb\"))\n",
    "\n",
    "flatStack = [phrase for phrases in phraseStack for phrase in phrases]\n",
    "phraseEntropies = [(phrase.id, phrase.entropy + 1) for phrase in flatStack]"
   ]
  },
  {
   "cell_type": "code",
   "execution_count": 2,
   "metadata": {},
   "outputs": [],
   "source": [
    "bqm = dimod.generators.maximum_weight_independent_set(SimpleG.edges, phraseEntropies, strength_multiplier=2)\n",
    "\n",
    "num_reads = 1000\n",
    "samplesetQ = EmbeddingComposite(DWaveSampler()).sample(bqm, num_reads = num_reads)"
   ]
  },
  {
   "cell_type": "code",
   "execution_count": 9,
   "metadata": {},
   "outputs": [
    {
     "name": "stdout",
     "output_type": "stream",
     "text": [
      "0.003003835678100586\n"
     ]
    }
   ],
   "source": [
    "start = time()\n",
    "samplsetC = SteepestDescentSolver().sample(bqm, num_reads=num_reads)\n",
    "end = time()\n",
    "\n",
    "print(end - start)\n",
    "\n",
    "# 3ms vs 183ms"
   ]
  }
 ],
 "metadata": {
  "kernelspec": {
   "display_name": "Python 3",
   "language": "python",
   "name": "python3"
  },
  "language_info": {
   "codemirror_mode": {
    "name": "ipython",
    "version": 3
   },
   "file_extension": ".py",
   "mimetype": "text/x-python",
   "name": "python",
   "nbconvert_exporter": "python",
   "pygments_lexer": "ipython3",
   "version": "3.11.5"
  }
 },
 "nbformat": 4,
 "nbformat_minor": 2
}
