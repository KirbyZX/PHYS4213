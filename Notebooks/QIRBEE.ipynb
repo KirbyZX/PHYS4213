{
 "cells": [
  {
   "cell_type": "code",
   "execution_count": 2,
   "metadata": {},
   "outputs": [],
   "source": [
    "# Import modules\n",
    "\n",
    "from music21 import *\n",
    "import matplotlib.pyplot as plt\n",
    "import pickle\n",
    "import dimod.generators\n",
    "import networkx as nx\n",
    "import pandas as pd\n",
    "from dwave.system import DWaveSampler, EmbeddingComposite\n",
    "from dwave.samplers import SteepestDescentSolver\n",
    "import dimod\n",
    "\n",
    "from calculators import *\n",
    "from boundaryDetection import *\n",
    "from graphUtilities import *"
   ]
  },
  {
   "cell_type": "code",
   "execution_count": 3,
   "metadata": {},
   "outputs": [],
   "source": [
    "# https://www.music21.org/music21docs/about/referenceCorpus.html#referencecorpus\n",
    "\n",
    "beethoven = corpus.parse(\"beethoven/opus74.mxl\")\n",
    "excerpt = beethoven\n",
    "identifier = \"opus74\"\n",
    "\n",
    "#excerpt.show(\"text\")"
   ]
  },
  {
   "cell_type": "code",
   "execution_count": 4,
   "metadata": {},
   "outputs": [
    {
     "name": "stdout",
     "output_type": "stream",
     "text": [
      "[36.0, 55.75, 68.0, 100.0, 106.0, 141.5, 154.0, 166.0, 224.0, 225.0, 252.5, 258.0, 259.5, 275.0, 312.0, 322.0, 327.0, 334.0, 340.0, 364.0, 393.5, 396.0, 413.5, 421.5, 433.5, 436.0, 437.5, 440.0, 441.5, 444.0, 449.5, 452.0, 453.5, 456.0, 457.5, 460.0, 461.5, 464.0, 465.5, 468.0, 469.5, 472.0, 493.5, 546.0, 551.0, 551.5, 556.0, 562.0, 600.0, 608.0, 626.0, 638.0, 658.0, 670.0, 676.0, 678.0, 684.0, 728.0, 729.0, 743.0, 959.75, 960.0, 960.25, 967.75, 968.0, 968.25, 975.75, 976.0, 980.0, 982.5, 1032.0, 1034.0, 1038.0, 1049.5, 1235.5, 1260.0, 1263.5, 1303.0, 1306.0, 1310.0, 1396.0, 1400.0, 1401.0, 1403.0, 1404.0, 1406.0, 1407.0, 1409.0, 1410.0, 1411.0, 1414.0, 1415.5, 1418.0, 1419.0, 1421.0, 1422.0, 1424.0, 1425.0, 1427.0, 1428.0, 1531.0, 1589.5, 1664.5, 1667.5, 1697.5, 1703.5, 1715.5, 1811.5, 1814.5, 1818.5, 1904.5, 1908.5, 1909.5, 1911.5, 1912.5, 1914.5, 1915.5, 1917.5, 1918.5, 1919.5, 1922.5, 1924.0, 1926.5, 1927.5, 1929.5, 1930.5, 1932.5, 1933.5, 1935.5, 1936.5, 2039.0, 2096.5, 2171.5, 2174.5, 2204.5, 2210.5, 2222.5, 2317.0, 2320.0, 2324.0, 2341.0, 2344.0, 2348.0, 2434.0, 2438.0, 2439.0, 2441.0, 2442.0, 2444.0, 2445.0, 2447.0, 2448.0, 2449.0, 2452.0, 2453.5, 2456.0, 2457.0, 2459.0, 2460.0, 2462.0, 2463.0, 2465.0, 2466.0, 2749.0, 2750.0, 2764.5, 2783.0, 2846.75, 2909.0, 2909.25, 2913.0, 2919.0, 2919.5, 2920.0, 2925.0, 2929.0, 2929.25, 2937.0, 2937.25, 2943.0, 2943.5, 3095.0]\n",
      "[12.0, 14.0, 56.0, 65.0, 68.0, 113.5, 218.0, 225.0, 237.0, 238.0, 312.0, 318.0, 335.0, 339.0, 340.0, 343.0, 367.0, 367.5, 386.0, 386.5, 387.0, 396.0, 401.0, 401.5, 402.0, 402.5, 403.0, 429.0, 495.0, 506.0, 509.0, 518.0, 521.3333333333334, 530.0, 533.5, 538.0, 539.6666666666666, 544.0, 556.0, 569.5, 600.0, 608.0, 608.5, 633.0, 661.0, 666.0, 680.0, 684.0, 722.0, 729.0, 745.5, 746.5, 782.5, 784.5, 814.5, 856.0, 858.0, 869.0, 873.0, 894.0, 904.0, 910.0, 920.0, 978.0, 990.5, 997.0, 1002.0, 1032.0, 1034.0, 1039.0, 1048.5, 1122.5, 1140.0, 1143.5, 1175.5, 1188.75, 1189.5, 1189.75, 1190.0, 1190.25, 1191.75, 1192.0, 1192.5, 1192.625, 1192.75, 1193.0, 1193.125, 1193.25, 1193.375, 1193.5, 1194.0, 1194.125, 1231.75, 1234.0, 1234.75, 1241.5, 1241.75, 1242.25, 1242.75, 1253.5, 1279.0, 1280.5, 1354.0, 1361.0, 1385.0, 1401.5, 1402.0, 1403.0, 1420.0, 1421.0, 1531.0, 1589.5, 1634.5, 1661.5, 1667.5, 1676.5, 1697.5, 1703.5, 1718.5, 1739.5, 1741.5, 1760.5, 1799.5, 1808.5, 1811.5, 1862.5, 1869.5, 1893.5, 1910.0, 1910.5, 1911.5, 1928.5, 1929.5, 2039.0, 2096.5, 2141.5, 2168.5, 2174.5, 2183.5, 2204.5, 2210.5, 2225.5, 2246.5, 2248.5, 2267.5, 2306.5, 2314.0, 2317.0, 2392.0, 2399.0, 2423.0, 2439.5, 2440.0, 2441.0, 2458.0, 2459.0, 2641.0, 2665.0, 2677.0, 2683.0, 2689.0, 2708.0, 2742.0, 2747.0, 2748.5, 2751.0, 2766.0, 2783.0, 2785.0, 2789.0, 2795.0, 2819.0, 2824.0, 2845.25, 2845.5, 2847.25, 2847.5, 2847.75, 2879.0, 2881.0, 2917.0, 2917.5, 2927.0, 2927.5, 2938.5, 2988.0, 2997.0, 3026.6666666666665, 3043.5, 3095.0]\n",
      "[52.0, 100.0, 108.0, 150.0, 152.0, 157.5, 170.0, 184.0, 225.0, 260.0, 268.5, 278.5, 280.5, 282.5, 304.0, 310.0, 324.0, 346.0, 366.0, 386.5, 401.5, 402.5, 424.0, 493.0, 502.0, 505.0, 514.0, 517.3333333333334, 526.0, 529.5, 536.0, 537.6666666666666, 542.0, 548.0, 554.0, 556.0, 564.0, 600.0, 601.0, 622.0, 632.0, 640.0, 642.0, 657.5, 676.0, 678.0, 682.0, 708.0, 712.0, 729.0, 756.0, 757.0, 779.0, 812.0, 823.5, 836.0, 856.0, 858.0, 870.0, 880.0, 884.0, 888.0, 895.0, 903.0, 911.0, 916.0, 919.0, 924.0, 926.0, 927.0, 965.0, 973.0, 980.0, 999.5, 1015.0, 1030.5, 1040.0, 1049.5, 1065.0, 1067.0, 1068.5, 1138.5, 1140.0, 1143.0, 1212.5, 1220.25, 1220.5, 1221.75, 1222.0, 1222.5, 1223.25, 1223.5, 1224.75, 1226.25, 1227.75, 1228.0, 1228.25, 1231.25, 1231.5, 1231.75, 1232.0, 1232.75, 1234.75, 1235.0, 1235.25, 1235.5, 1235.75, 1237.75, 1239.25, 1239.5, 1242.25, 1263.0, 1282.0, 1283.5, 1350.5, 1357.0, 1359.5, 1360.0, 1401.5, 1404.0, 1405.0, 1419.5, 1422.0, 1423.0, 1429.0, 1451.0, 1453.0, 1454.0, 1457.0, 1460.0, 1463.0, 1466.0, 1469.0, 1470.0, 1471.0, 1507.0, 1513.0, 1531.0, 1559.5, 1586.5, 1592.5, 1619.5, 1643.5, 1676.5, 1679.5, 1691.5, 1748.5, 1749.5, 1760.5, 1766.5, 1795.5, 1799.5, 1802.5, 1804.5, 1808.5, 1811.5, 1859.0, 1865.5, 1868.0, 1868.5, 1910.0, 1912.5, 1913.5, 1928.0, 1930.5, 1931.5, 1937.5, 1959.5, 1961.5, 1962.5, 1965.5, 1968.5, 1971.5, 1974.5, 1977.5, 1978.5, 1979.5, 2015.5, 2021.5, 2039.0, 2066.5, 2093.5, 2099.5, 2126.5, 2150.5, 2183.5, 2186.5, 2198.5, 2255.5, 2256.5, 2267.5, 2273.5, 2302.5, 2306.5, 2309.5, 2311.5, 2314.0, 2317.0, 2388.5, 2395.0, 2397.5, 2398.0, 2439.5, 2442.0, 2443.0, 2457.5, 2460.0, 2461.0, 2467.0, 2489.0, 2491.0, 2492.0, 2495.0, 2498.0, 2501.0, 2504.0, 2507.0, 2508.0, 2509.0, 2545.0, 2551.0, 2623.0, 2626.0, 2629.0, 2635.0, 2638.0, 2641.0, 2677.0, 2683.0, 2689.0, 2766.0, 2769.0, 2825.5, 2826.5, 2827.5, 2828.5, 2829.5, 2830.5, 2833.5, 2834.5, 2835.5, 2836.5, 2837.5, 2838.5, 2839.5, 2844.5, 2845.5, 2846.5, 2846.75, 2847.0, 2857.5, 2858.5, 2859.5, 2860.5, 2861.5, 2867.0, 2882.0, 2883.0, 2884.5, 2887.0, 2917.0, 2917.5, 2918.5, 2927.5, 2938.5, 3057.5, 3070.6666666666665, 3071.6666666666665, 3073.6666666666665, 3095.0]\n",
      "[8.0, 16.0, 28.0, 50.0, 56.0, 66.0, 80.0, 100.0, 108.0, 112.0, 116.0, 136.0, 168.0, 172.0, 174.0, 176.0, 180.0, 184.0, 208.0, 214.0, 220.0, 304.0, 308.0, 312.0, 320.0, 331.5, 341.0, 350.0, 365.0, 381.5, 392.0, 396.0, 400.0, 434.0, 435.5, 438.0, 442.0, 443.5, 446.0, 454.0, 458.0, 462.0, 466.0, 470.0, 471.5, 474.0, 501.0, 510.0, 513.3333333333334, 522.0, 525.5, 534.0, 535.6666666666666, 540.0, 541.6666666666666, 548.0, 556.0, 564.0, 588.0, 672.0, 676.0, 678.0, 680.0, 684.0, 688.0, 700.0, 704.5, 706.5, 720.0, 756.0, 808.0, 836.0, 840.0, 855.0, 879.0, 884.0, 895.0, 900.0, 911.0, 916.0, 927.0, 1032.0, 1038.0, 1044.0, 1140.0, 1273.25, 1278.5, 1300.0, 1312.0, 1321.0, 1401.0, 1406.0, 1410.5, 1424.0, 1433.0, 1436.0, 1439.0, 1442.0, 1532.5, 1535.5, 1586.5, 1613.5, 1628.5, 1631.5, 1679.5, 1763.5, 1795.5, 1808.5, 1820.5, 1829.5, 1909.5, 1914.5, 1919.0, 1932.5, 1941.5, 1944.5, 1947.5, 1950.5, 2042.5, 2093.5, 2120.5, 2135.5, 2138.5, 2186.5, 2270.5, 2302.5, 2314.0, 2326.0, 2335.0, 2338.0, 2350.0, 2359.0, 2439.0, 2444.0, 2448.5, 2462.0, 2471.0, 2474.0, 2477.0, 2480.0, 2659.0, 2677.0, 2683.0, 2689.0, 2847.25, 3095.0]\n"
     ]
    }
   ],
   "source": [
    "# Boundary detection\n",
    "\n",
    "phraseStack = []\n",
    "threshold = 0.15\n",
    "\n",
    "for part in excerpt.parts:\n",
    "    boundaries = identifyBoundaries(part, threshold)\n",
    "    print(boundaries)\n",
    "    phrases = extractPhrases(part, boundaries, f\"{part.id}\")    \n",
    "    phraseStack.append(phrases)"
   ]
  },
  {
   "cell_type": "code",
   "execution_count": null,
   "metadata": {},
   "outputs": [],
   "source": [
    "# Create graph\n",
    "\n",
    "flatStack = [phrase for phrases in phraseStack for phrase in phrases]\n",
    "uniquePairs = [(i, j) for i in range(len(flatStack)) for j in range(i+1, len(flatStack))]\n",
    "\n",
    "#print(len(flatStack))\n",
    "#for p in flatStack: print(p.id, p.entropy)\n",
    "#for i, j in uniquePairs: print(flatStack[i].id, flatStack[j].id, hasOverlap(flatStack[i], flatStack[j]))\n",
    "\n",
    "edges = []\n",
    "\n",
    "for i, j in uniquePairs:\n",
    "    if hasOverlap(flatStack[i], flatStack[j]):\n",
    "        edges.append((flatStack[i], flatStack[j]))\n",
    "\n",
    "\n",
    "SimpleG = nx.Graph()\n",
    "ObjectG = nx.Graph()\n",
    "\n",
    "ObjectG.add_nodes_from(flatStack)\n",
    "ObjectG.add_edges_from(edges)\n",
    "\n",
    "\"\"\"\n",
    "for p in flatStack:\n",
    "    SimpleG.add_node(p.id)\n",
    "    ObjectG.add_node(p)\n",
    "\n",
    "    for n in ObjectG.nodes:\n",
    "        if p != n and hasOverlap(p, n):\n",
    "            SimpleG.add_edge(p.id, n.id)\n",
    "            ObjectG.add_edge(p, n)\n",
    "\n",
    "#G = defineGraph(edges)\n",
    "\"\"\"\n",
    "pos = nx.spring_layout(ObjectG, k=0.5) # Force specific layout\n",
    "nx.draw_networkx(ObjectG, pos=pos, with_labels=False)\n",
    "\n",
    "print(len(edges))"
   ]
  },
  {
   "cell_type": "code",
   "execution_count": null,
   "metadata": {},
   "outputs": [],
   "source": [
    "phraseEntropies = [(phrase.id, phrase.entropy + 1) for phrase in flatStack]\n",
    "bqm = dimod.generators.maximum_weight_independent_set(SimpleG.edges, phraseEntropies, strength_multiplier=2)\n",
    "print(bqm)"
   ]
  },
  {
   "cell_type": "code",
   "execution_count": null,
   "metadata": {},
   "outputs": [],
   "source": [
    "# Solve on QPU\n",
    "\n",
    "def solveWeightedMIS(G: nx.Graph, weights: list[tuple] = [], sampler=EmbeddingComposite(DWaveSampler()), num_reads: int = 100, strength_multiplier: float = 2) -> pd.DataFrame:\n",
    "    bqm = dimod.generators.maximum_weight_independent_set(G.edges, weights, strength_multiplier=strength_multiplier)\n",
    "    sampler = sampler\n",
    "    sampleset = sampler.sample(bqm, num_reads = num_reads)\n",
    "    return sampleset.to_pandas_dataframe(True)\n",
    "\n",
    "df = solveWeightedMIS(SimpleG, phraseEntropies, num_reads=1000)"
   ]
  },
  {
   "cell_type": "code",
   "execution_count": null,
   "metadata": {},
   "outputs": [],
   "source": [
    "# Show results\n",
    "\n",
    "print(df.head())\n",
    "#print(df[\"energy\"].sort_values(ascending=True))\n",
    "\n",
    "sample = df[\"sample\"][0]\n",
    "chosen = [x for x in sample if sample[x] == 1]\n",
    "\n",
    "print(chosen)\n",
    "print(len(chosen))\n",
    "\n",
    "nx.draw_networkx(SimpleG, pos=pos, nodelist=chosen)"
   ]
  },
  {
   "cell_type": "code",
   "execution_count": null,
   "metadata": {},
   "outputs": [],
   "source": [
    "# Final arrangement\n",
    "\n",
    "arrangement = stream.Stream()\n",
    "\n",
    "for phrase in flatStack:\n",
    "    if phrase.id in chosen:\n",
    "        arrangement.mergeElements(phrase)\n",
    "\n",
    "arrangement.show()\n"
   ]
  },
  {
   "cell_type": "code",
   "execution_count": 38,
   "metadata": {},
   "outputs": [],
   "source": [
    "# Save data\n",
    "\n",
    "excerpt.write(\"xml\", f\"../Pickles/{identifier}_excerpt.xml\")\n",
    "pickle.dump(phraseStack, open(f\"../Pickles/{identifier}_phraseStack.pkl\", \"wb\"))\n",
    "pickle.dump(SimpleG, open(f\"../Pickles/{identifier}_simpleGraph.pkl\", \"wb\"))\n",
    "pickle.dump(ObjectG, open(f\"../Pickles/{identifier}_objectGraph.pkl\", \"wb\"))\n",
    "pickle.dump(df, open(f\"../Pickles/{identifier}_df.pkl\", \"wb\"))"
   ]
  }
 ],
 "metadata": {
  "kernelspec": {
   "display_name": "Python 3",
   "language": "python",
   "name": "python3"
  },
  "language_info": {
   "codemirror_mode": {
    "name": "ipython",
    "version": 3
   },
   "file_extension": ".py",
   "mimetype": "text/x-python",
   "name": "python",
   "nbconvert_exporter": "python",
   "pygments_lexer": "ipython3",
   "version": "3.10.4"
  }
 },
 "nbformat": 4,
 "nbformat_minor": 4
}
