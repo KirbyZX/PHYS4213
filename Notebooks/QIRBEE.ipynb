{
 "cells": [
  {
   "cell_type": "code",
   "execution_count": 11,
   "metadata": {},
   "outputs": [],
   "source": [
    "# Import modules\n",
    "\n",
    "from music21 import *\n",
    "import matplotlib.pyplot as plt\n",
    "import pickle\n",
    "import dimod.generators\n",
    "import networkx as nx\n",
    "import pandas as pd\n",
    "from dwave.system import DWaveSampler, EmbeddingComposite\n",
    "import dimod\n",
    "\n",
    "from calculators import *\n",
    "from boundaryDetection import *\n",
    "from graphUtilities import *"
   ]
  },
  {
   "cell_type": "code",
   "execution_count": 2,
   "metadata": {},
   "outputs": [],
   "source": [
    "# https://www.music21.org/music21docs/about/referenceCorpus.html#referencecorpus\n",
    "\n",
    "beethoven = corpus.parse(\"beethoven/opus74.mxl\")\n",
    "excerpt = beethoven.measures(1, 13)\n",
    "identifier = \"opus74\"\n",
    "\n",
    "#excerpt.show(\"text\")"
   ]
  },
  {
   "cell_type": "code",
   "execution_count": null,
   "metadata": {},
   "outputs": [],
   "source": [
    "# Boundary detection\n",
    "\n",
    "phraseStack = []\n",
    "threshold = 0.4\n",
    "\n",
    "for part in excerpt.parts:\n",
    "    boundaries = identifyBoundaries(part, threshold)\n",
    "    print(boundaries)\n",
    "    phrases = extractPhrases(part, boundaries, f\"{part.id}\")    \n",
    "    phraseStack.append(phrases)"
   ]
  },
  {
   "cell_type": "code",
   "execution_count": null,
   "metadata": {},
   "outputs": [],
   "source": [
    "# Create graph\n",
    "\n",
    "flatStack = [phrase for phrases in phraseStack for phrase in phrases]\n",
    "uniquePairs = [(i, j) for i in range(len(flatStack)) for j in range(i+1, len(flatStack))]\n",
    "\n",
    "#print(len(flatStack))\n",
    "#for p in flatStack: print(p.id, p.entropy)\n",
    "#for i, j in uniquePairs: print(flatStack[i].id, flatStack[j].id, hasOverlap(flatStack[i], flatStack[j]))\n",
    "\n",
    "edges = []\n",
    "\n",
    "for i, j in uniquePairs:\n",
    "    if hasOverlap(flatStack[i], flatStack[j]):\n",
    "        edges.append((flatStack[i], flatStack[j]))\n",
    "\n",
    "\n",
    "SimpleG = nx.Graph()\n",
    "ObjectG = nx.Graph()\n",
    "\n",
    "for p in flatStack:\n",
    "    SimpleG.add_node(p.id)\n",
    "    ObjectG.add_node(p)\n",
    "\n",
    "    for n in ObjectG.nodes:\n",
    "        if p != n and hasOverlap(p, n):\n",
    "            SimpleG.add_edge(p.id, n.id)\n",
    "            ObjectG.add_edge(p, n)\n",
    "\n",
    "#G = defineGraph(edges)\n",
    "pos = nx.spring_layout(SimpleG, k=0.5) # Force specific layout\n",
    "nx.draw_networkx(SimpleG, pos=pos)\n",
    "\n",
    "print(len(SimpleG.edges))"
   ]
  },
  {
   "cell_type": "code",
   "execution_count": null,
   "metadata": {},
   "outputs": [],
   "source": [
    "phraseEntropies = [(phrase.id, phrase.entropy + 1) for phrase in flatStack]\n",
    "bqm = dimod.generators.maximum_weight_independent_set(SimpleG.edges, phraseEntropies, strength_multiplier=2)\n",
    "print(bqm)"
   ]
  },
  {
   "cell_type": "code",
   "execution_count": null,
   "metadata": {},
   "outputs": [],
   "source": [
    "# Solve on QPU\n",
    "\n",
    "def solveWeightedMIS(G: nx.Graph, weights: list[tuple] = [], sampler=EmbeddingComposite(DWaveSampler()), num_reads: int = 100, strength_multiplier: float = 2) -> pd.DataFrame:\n",
    "    bqm = dimod.generators.maximum_weight_independent_set(G.edges, weights, strength_multiplier=strength_multiplier)\n",
    "    sampler = sampler\n",
    "    sampleset = sampler.sample(bqm, num_reads = num_reads)\n",
    "    return sampleset.to_pandas_dataframe(True)\n",
    "\n",
    "df = solveWeightedMIS(SimpleG, phraseEntropies, num_reads=1000)"
   ]
  },
  {
   "cell_type": "code",
   "execution_count": null,
   "metadata": {},
   "outputs": [],
   "source": [
    "# Show results\n",
    "\n",
    "print(df.head())\n",
    "#print(df[\"energy\"].sort_values(ascending=True))\n",
    "\n",
    "sample = df[\"sample\"][0]\n",
    "chosen = [x for x in sample if sample[x] == 1]\n",
    "\n",
    "print(chosen)\n",
    "print(len(chosen))\n",
    "\n",
    "nx.draw_networkx(SimpleG, pos=pos, nodelist=chosen)"
   ]
  },
  {
   "cell_type": "code",
   "execution_count": null,
   "metadata": {},
   "outputs": [],
   "source": [
    "# Final arrangement\n",
    "\n",
    "arrangement = stream.Stream()\n",
    "\n",
    "for phrase in flatStack:\n",
    "    if phrase.id in chosen:\n",
    "        arrangement.mergeElements(phrase)\n",
    "\n",
    "arrangement.show()\n"
   ]
  },
  {
   "cell_type": "code",
   "execution_count": 38,
   "metadata": {},
   "outputs": [],
   "source": [
    "# Save data\n",
    "\n",
    "excerpt.write(\"xml\", f\"../Pickles/{identifier}_excerpt.xml\")\n",
    "pickle.dump(phraseStack, open(f\"../Pickles/{identifier}_phraseStack.pkl\", \"wb\"))\n",
    "pickle.dump(SimpleG, open(f\"../Pickles/{identifier}_simpleGraph.pkl\", \"wb\"))\n",
    "pickle.dump(ObjectG, open(f\"../Pickles/{identifier}_objectGraph.pkl\", \"wb\"))\n",
    "pickle.dump(df, open(f\"../Pickles/{identifier}_df.pkl\", \"wb\"))"
   ]
  }
 ],
 "metadata": {
  "kernelspec": {
   "display_name": "Python 3",
   "language": "python",
   "name": "python3"
  },
  "language_info": {
   "codemirror_mode": {
    "name": "ipython",
    "version": 3
   },
   "file_extension": ".py",
   "mimetype": "text/x-python",
   "name": "python",
   "nbconvert_exporter": "python",
   "pygments_lexer": "ipython3",
   "version": "3.11.5"
  }
 },
 "nbformat": 4,
 "nbformat_minor": 4
}
