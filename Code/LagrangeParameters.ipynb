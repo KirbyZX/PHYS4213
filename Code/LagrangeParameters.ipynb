{
 "cells": [
  {
   "cell_type": "code",
   "execution_count": 13,
   "metadata": {},
   "outputs": [],
   "source": [
    "IDENTIFIER = \"beethoven-op67\"\n",
    "NUM = 1\n",
    "\n",
    "picklePath = f\"../Pickles/{IDENTIFIER}/{IDENTIFIER}_\"\n",
    "numPath = f\"../Pickles/{IDENTIFIER}/{NUM}/{IDENTIFIER}_{NUM}_\"\n",
    "dataPath = f\"../Data/{IDENTIFIER}/{NUM}/{IDENTIFIER}_{NUM}_\"\n",
    "\n",
    "import pandas as pd\n",
    "import json\n",
    "import networkx as nx\n",
    "import numpy as np\n",
    "from dwave.system import DWaveSampler, FixedEmbeddingComposite\n",
    "\n",
    "from qubo import createBQM\n",
    "from samples import duplicates, overlaps, extractChosen\n",
    "\n",
    "\n",
    "phrases = pd.read_csv(picklePath + \"phrases.csv\", index_col=[0,1])\n",
    "G = nx.read_graphml(picklePath + \"graph.graphml\")\n",
    "instruments = json.load(open(numPath + \"instruments.json\"))\n",
    "embedding = json.load(open(numPath + \"embedding.json\", \"r\"))\n",
    "\n",
    "sampler = FixedEmbeddingComposite(DWaveSampler(), embedding)"
   ]
  },
  {
   "cell_type": "markdown",
   "metadata": {},
   "source": [
    "## Pegasus topology\n",
    "\n",
    "- Each qubit coupled to 15 other qubits\n",
    "- 5640 qubits in one QPU\n",
    "\n",
    "Due to limitations with QPU size could only pick shortish pieces/cut pieces short."
   ]
  },
  {
   "cell_type": "code",
   "execution_count": 14,
   "metadata": {},
   "outputs": [
    {
     "name": "stdout",
     "output_type": "stream",
     "text": [
      "4457\n"
     ]
    }
   ],
   "source": [
    "print(sum(len(embedding[i]) for i in embedding))"
   ]
  },
  {
   "cell_type": "code",
   "execution_count": 2,
   "metadata": {},
   "outputs": [
    {
     "name": "stdout",
     "output_type": "stream",
     "text": [
      "Multiplier 1.5 recorded!\n"
     ]
    }
   ],
   "source": [
    "# Node constraint\n",
    "\n",
    "multipliers = np.arange(1.5, 2, .5)\n",
    "reads = 2000\n",
    "\n",
    "file = pd.DataFrame()\n",
    "\n",
    "for m in multipliers:\n",
    "    bqm = createBQM(G, phrases, instruments, m, 1, 1)\n",
    "    sampleset = sampler.sample(bqm, num_reads=reads, label=f\"Haydn_{reads}\")\n",
    "    sample = sampleset.first\n",
    "\n",
    "    new_row = pd.DataFrame({\n",
    "        \"Multiplier\": [m],\n",
    "        \"Lowest energy\": [bqm.energy(sample.sample)],\n",
    "        \"Chain break fraction\": [sample.chain_break_fraction],\n",
    "        \"Duplicates\": [duplicates(sample.sample, G)]\n",
    "        })\n",
    "    \n",
    "    file = pd.concat([file, new_row])\n",
    "    \n",
    "    print(f\"Multiplier {m} recorded!\")\n",
    "\n",
    "file.to_csv(dataPath+\"lagrange-node.csv\", index=False, mode=\"a\", header=False)"
   ]
  },
  {
   "cell_type": "code",
   "execution_count": 9,
   "metadata": {},
   "outputs": [
    {
     "name": "stdout",
     "output_type": "stream",
     "text": [
      "{'Bassoon_10_Flute': 0, 'Bassoon_11_Flute': 0, 'Bassoon_12_Flute': 0, 'Bassoon_13_Flute': 0, 'Bassoon_14_Flute': 0, 'Bassoon_15_Flute': 0, 'Bassoon_16_Flute': 0, 'Bassoon_17_Flute': 0, 'Bassoon_18_Flute': 0, 'Bassoon_19_Flute': 0, 'Bassoon_1_Flute': 0, 'Bassoon_20_Flute': 0, 'Bassoon_21_Flute': 0, 'Bassoon_22_Flute': 0, 'Bassoon_23_Flute': 0, 'Bassoon_24_Flute': 0, 'Bassoon_25_Flute': 0, 'Bassoon_26_Flute': 0, 'Bassoon_27_Flute': 0, 'Bassoon_2_Flute': 1, 'Bassoon_3_Flute': 0, 'Bassoon_4_Flute': 1, 'Bassoon_5_Flute': 0, 'Bassoon_6_Flute': 0, 'Bassoon_7_Flute': 0, 'Bassoon_8_Flute': 1, 'Bassoon_9_Flute': 0, 'B♭ Clarinet_10_Flute': 0, 'B♭ Clarinet_11_Flute': 0, 'B♭ Clarinet_12_Flute': 0, 'B♭ Clarinet_13_Flute': 0, 'B♭ Clarinet_14_Flute': 0, 'B♭ Clarinet_15_Flute': 0, 'B♭ Clarinet_16_Flute': 0, 'B♭ Clarinet_17_Flute': 0, 'B♭ Clarinet_18_Flute': 0, 'B♭ Clarinet_19_Flute': 0, 'B♭ Clarinet_1_Flute': 0, 'B♭ Clarinet_20_Flute': 0, 'B♭ Clarinet_21_Flute': 0, 'B♭ Clarinet_22_Flute': 0, 'B♭ Clarinet_23_Flute': 1, 'B♭ Clarinet_24_Flute': 0, 'B♭ Clarinet_25_Flute': 0, 'B♭ Clarinet_26_Flute': 0, 'B♭ Clarinet_27_Flute': 0, 'B♭ Clarinet_28_Flute': 1, 'B♭ Clarinet_29_Flute': 1, 'B♭ Clarinet_2_Flute': 0, 'B♭ Clarinet_30_Flute': 0, 'B♭ Clarinet_31_Flute': 0, 'B♭ Clarinet_32_Flute': 0, 'B♭ Clarinet_33_Flute': 0, 'B♭ Clarinet_34_Flute': 0, 'B♭ Clarinet_35_Flute': 1, 'B♭ Clarinet_36_Flute': 0, 'B♭ Clarinet_37_Flute': 0, 'B♭ Clarinet_38_Flute': 0, 'B♭ Clarinet_39_Flute': 0, 'B♭ Clarinet_3_Flute': 0, 'B♭ Clarinet_40_Flute': 0, 'B♭ Clarinet_41_Flute': 1, 'B♭ Clarinet_42_Flute': 0, 'B♭ Clarinet_43_Flute': 0, 'B♭ Clarinet_44_Flute': 0, 'B♭ Clarinet_45_Flute': 0, 'B♭ Clarinet_46_Flute': 0, 'B♭ Clarinet_47_Flute': 0, 'B♭ Clarinet_48_Flute': 0, 'B♭ Clarinet_49_Flute': 0, 'B♭ Clarinet_4_Flute': 0, 'B♭ Clarinet_50_Flute': 0, 'B♭ Clarinet_51_Flute': 0, 'B♭ Clarinet_52_Flute': 0, 'B♭ Clarinet_53_Flute': 0, 'B♭ Clarinet_54_Flute': 0, 'B♭ Clarinet_55_Flute': 0, 'B♭ Clarinet_56_Flute': 0, 'B♭ Clarinet_57_Flute': 0, 'B♭ Clarinet_58_Flute': 0, 'B♭ Clarinet_59_Flute': 0, 'B♭ Clarinet_5_Flute': 0, 'B♭ Clarinet_60_Flute': 0, 'B♭ Clarinet_61_Flute': 0, 'B♭ Clarinet_62_Flute': 0, 'B♭ Clarinet_63_Flute': 0, 'B♭ Clarinet_64_Flute': 0, 'B♭ Clarinet_65_Flute': 0, 'B♭ Clarinet_66_Flute': 0, 'B♭ Clarinet_67_Flute': 0, 'B♭ Clarinet_68_Flute': 0, 'B♭ Clarinet_69_Flute': 0, 'B♭ Clarinet_6_Flute': 1, 'B♭ Clarinet_70_Flute': 1, 'B♭ Clarinet_71_Flute': 0, 'B♭ Clarinet_72_Flute': 0, 'B♭ Clarinet_73_Flute': 0, 'B♭ Clarinet_74_Flute': 0, 'B♭ Clarinet_75_Flute': 0, 'B♭ Clarinet_76_Flute': 0, 'B♭ Clarinet_77_Flute': 0, 'B♭ Clarinet_78_Flute': 0, 'B♭ Clarinet_79_Flute': 0, 'B♭ Clarinet_7_Flute': 0, 'B♭ Clarinet_80_Flute': 0, 'B♭ Clarinet_81_Flute': 1, 'B♭ Clarinet_82_Flute': 0, 'B♭ Clarinet_83_Flute': 0, 'B♭ Clarinet_84_Flute': 0, 'B♭ Clarinet_85_Flute': 0, 'B♭ Clarinet_86_Flute': 0, 'B♭ Clarinet_87_Flute': 0, 'B♭ Clarinet_88_Flute': 0, 'B♭ Clarinet_89_Flute': 1, 'B♭ Clarinet_8_Flute': 0, 'B♭ Clarinet_90_Flute': 1, 'B♭ Clarinet_91_Flute': 0, 'B♭ Clarinet_92_Flute': 0, 'B♭ Clarinet_93_Flute': 0, 'B♭ Clarinet_94_Flute': 1, 'B♭ Clarinet_95_Flute': 1, 'B♭ Clarinet_96_Flute': 1, 'B♭ Clarinet_97_Flute': 1, 'B♭ Clarinet_98_Flute': 1, 'B♭ Clarinet_99_Flute': 0, 'B♭ Clarinet_9_Flute': 0, 'C Trumpet_10_Flute': 0, 'C Trumpet_11_Flute': 0, 'C Trumpet_12_Flute': 0, 'C Trumpet_13_Flute': 0, 'C Trumpet_14_Flute': 0, 'C Trumpet_15_Flute': 0, 'C Trumpet_16_Flute': 0, 'C Trumpet_17_Flute': 0, 'C Trumpet_18_Flute': 0, 'C Trumpet_19_Flute': 1, 'C Trumpet_1_Flute': 0, 'C Trumpet_20_Flute': 0, 'C Trumpet_21_Flute': 1, 'C Trumpet_22_Flute': 0, 'C Trumpet_23_Flute': 0, 'C Trumpet_24_Flute': 0, 'C Trumpet_25_Flute': 0, 'C Trumpet_26_Flute': 0, 'C Trumpet_27_Flute': 0, 'C Trumpet_28_Flute': 0, 'C Trumpet_29_Flute': 0, 'C Trumpet_2_Flute': 0, 'C Trumpet_30_Flute': 0, 'C Trumpet_3_Flute': 0, 'C Trumpet_4_Flute': 0, 'C Trumpet_5_Flute': 0, 'C Trumpet_6_Flute': 0, 'C Trumpet_7_Flute': 0, 'C Trumpet_8_Flute': 0, 'C Trumpet_9_Flute': 0, 'Contrabasses_10_Flute': 0, 'Contrabasses_11_Flute': 1, 'Contrabasses_12_Flute': 0, 'Contrabasses_13_Flute': 0, 'Contrabasses_14_Flute': 1, 'Contrabasses_15_Flute': 0, 'Contrabasses_16_Flute': 0, 'Contrabasses_17_Flute': 0, 'Contrabasses_18_Flute': 0, 'Contrabasses_19_Flute': 0, 'Contrabasses_1_Flute': 0, 'Contrabasses_20_Flute': 0, 'Contrabasses_21_Flute': 0, 'Contrabasses_22_Flute': 0, 'Contrabasses_23_Flute': 0, 'Contrabasses_24_Flute': 0, 'Contrabasses_25_Flute': 0, 'Contrabasses_26_Flute': 0, 'Contrabasses_27_Flute': 0, 'Contrabasses_28_Flute': 0, 'Contrabasses_29_Flute': 0, 'Contrabasses_2_Flute': 0, 'Contrabasses_30_Flute': 0, 'Contrabasses_31_Flute': 0, 'Contrabasses_32_Flute': 0, 'Contrabasses_33_Flute': 1, 'Contrabasses_34_Flute': 0, 'Contrabasses_35_Flute': 0, 'Contrabasses_36_Flute': 0, 'Contrabasses_37_Flute': 0, 'Contrabasses_38_Flute': 0, 'Contrabasses_39_Flute': 0, 'Contrabasses_3_Flute': 0, 'Contrabasses_40_Flute': 0, 'Contrabasses_41_Flute': 0, 'Contrabasses_42_Flute': 0, 'Contrabasses_43_Flute': 0, 'Contrabasses_44_Flute': 0, 'Contrabasses_45_Flute': 0, 'Contrabasses_46_Flute': 0, 'Contrabasses_47_Flute': 0, 'Contrabasses_48_Flute': 0, 'Contrabasses_49_Flute': 0, 'Contrabasses_4_Flute': 0, 'Contrabasses_50_Flute': 1, 'Contrabasses_51_Flute': 0, 'Contrabasses_52_Flute': 0, 'Contrabasses_53_Flute': 0, 'Contrabasses_54_Flute': 0, 'Contrabasses_55_Flute': 0, 'Contrabasses_56_Flute': 0, 'Contrabasses_57_Flute': 0, 'Contrabasses_58_Flute': 0, 'Contrabasses_59_Flute': 1, 'Contrabasses_5_Flute': 0, 'Contrabasses_60_Flute': 0, 'Contrabasses_61_Flute': 0, 'Contrabasses_62_Flute': 1, 'Contrabasses_63_Flute': 0, 'Contrabasses_64_Flute': 1, 'Contrabasses_65_Flute': 0, 'Contrabasses_66_Flute': 0, 'Contrabasses_67_Flute': 1, 'Contrabasses_68_Flute': 0, 'Contrabasses_69_Flute': 0, 'Contrabasses_6_Flute': 1, 'Contrabasses_70_Flute': 0, 'Contrabasses_71_Flute': 0, 'Contrabasses_72_Flute': 0, 'Contrabasses_73_Flute': 0, 'Contrabasses_74_Flute': 0, 'Contrabasses_75_Flute': 0, 'Contrabasses_76_Flute': 0, 'Contrabasses_77_Flute': 0, 'Contrabasses_78_Flute': 0, 'Contrabasses_79_Flute': 0, 'Contrabasses_7_Flute': 1, 'Contrabasses_80_Flute': 1, 'Contrabasses_81_Flute': 1, 'Contrabasses_82_Flute': 0, 'Contrabasses_83_Flute': 0, 'Contrabasses_84_Flute': 0, 'Contrabasses_85_Flute': 0, 'Contrabasses_86_Flute': 0, 'Contrabasses_87_Flute': 0, 'Contrabasses_88_Flute': 0, 'Contrabasses_89_Flute': 0, 'Contrabasses_8_Flute': 1, 'Contrabasses_90_Flute': 0, 'Contrabasses_91_Flute': 0, 'Contrabasses_92_Flute': 0, 'Contrabasses_93_Flute': 0, 'Contrabasses_94_Flute': 0, 'Contrabasses_95_Flute': 0, 'Contrabasses_96_Flute': 0, 'Contrabasses_97_Flute': 0, 'Contrabasses_98_Flute': 0, 'Contrabasses_99_Flute': 0, 'Contrabasses_9_Flute': 0, 'Flute_10_Flute': 0, 'Flute_11_Flute': 0, 'Flute_12_Flute': 0, 'Flute_13_Flute': 0, 'Flute_14_Flute': 0, 'Flute_15_Flute': 0, 'Flute_16_Flute': 0, 'Flute_17_Flute': 1, 'Flute_18_Flute': 0, 'Flute_19_Flute': 0, 'Flute_1_Flute': 0, 'Flute_20_Flute': 0, 'Flute_21_Flute': 0, 'Flute_22_Flute': 0, 'Flute_23_Flute': 0, 'Flute_24_Flute': 0, 'Flute_25_Flute': 0, 'Flute_26_Flute': 1, 'Flute_27_Flute': 0, 'Flute_28_Flute': 0, 'Flute_29_Flute': 0, 'Flute_2_Flute': 0, 'Flute_30_Flute': 0, 'Flute_31_Flute': 0, 'Flute_32_Flute': 0, 'Flute_33_Flute': 0, 'Flute_34_Flute': 0, 'Flute_35_Flute': 0, 'Flute_36_Flute': 0, 'Flute_3_Flute': 0, 'Flute_4_Flute': 1, 'Flute_5_Flute': 0, 'Flute_6_Flute': 0, 'Flute_7_Flute': 0, 'Flute_8_Flute': 0, 'Flute_9_Flute': 0, 'Horn in E♭_10_Flute': 0, 'Horn in E♭_11_Flute': 0, 'Horn in E♭_12_Flute': 0, 'Horn in E♭_13_Flute': 0, 'Horn in E♭_14_Flute': 0, 'Horn in E♭_15_Flute': 0, 'Horn in E♭_16_Flute': 0, 'Horn in E♭_17_Flute': 0, 'Horn in E♭_18_Flute': 0, 'Horn in E♭_19_Flute': 0, 'Horn in E♭_1_Flute': 1, 'Horn in E♭_20_Flute': 0, 'Horn in E♭_21_Flute': 0, 'Horn in E♭_22_Flute': 0, 'Horn in E♭_23_Flute': 0, 'Horn in E♭_24_Flute': 0, 'Horn in E♭_25_Flute': 0, 'Horn in E♭_26_Flute': 0, 'Horn in E♭_27_Flute': 0, 'Horn in E♭_28_Flute': 0, 'Horn in E♭_29_Flute': 0, 'Horn in E♭_2_Flute': 0, 'Horn in E♭_30_Flute': 0, 'Horn in E♭_31_Flute': 0, 'Horn in E♭_32_Flute': 0, 'Horn in E♭_33_Flute': 0, 'Horn in E♭_34_Flute': 0, 'Horn in E♭_35_Flute': 0, 'Horn in E♭_36_Flute': 0, 'Horn in E♭_37_Flute': 0, 'Horn in E♭_38_Flute': 0, 'Horn in E♭_39_Flute': 0, 'Horn in E♭_3_Flute': 1, 'Horn in E♭_40_Flute': 0, 'Horn in E♭_41_Flute': 0, 'Horn in E♭_42_Flute': 0, 'Horn in E♭_43_Flute': 0, 'Horn in E♭_44_Flute': 0, 'Horn in E♭_45_Flute': 0, 'Horn in E♭_46_Flute': 0, 'Horn in E♭_4_Flute': 0, 'Horn in E♭_5_Flute': 0, 'Horn in E♭_6_Flute': 1, 'Horn in E♭_7_Flute': 1, 'Horn in E♭_8_Flute': 0, 'Horn in E♭_9_Flute': 0, 'Oboe_10_Flute': 0, 'Oboe_11_Flute': 0, 'Oboe_12_Flute': 1, 'Oboe_13_Flute': 1, 'Oboe_14_Flute': 0, 'Oboe_15_Flute': 0, 'Oboe_16_Flute': 0, 'Oboe_17_Flute': 0, 'Oboe_18_Flute': 0, 'Oboe_19_Flute': 0, 'Oboe_1_Flute': 0, 'Oboe_20_Flute': 0, 'Oboe_21_Flute': 0, 'Oboe_22_Flute': 0, 'Oboe_23_Flute': 1, 'Oboe_24_Flute': 1, 'Oboe_25_Flute': 0, 'Oboe_26_Flute': 0, 'Oboe_27_Flute': 0, 'Oboe_28_Flute': 1, 'Oboe_29_Flute': 0, 'Oboe_2_Flute': 0, 'Oboe_30_Flute': 0, 'Oboe_31_Flute': 1, 'Oboe_32_Flute': 0, 'Oboe_33_Flute': 0, 'Oboe_34_Flute': 0, 'Oboe_35_Flute': 0, 'Oboe_36_Flute': 0, 'Oboe_37_Flute': 0, 'Oboe_38_Flute': 0, 'Oboe_39_Flute': 0, 'Oboe_3_Flute': 0, 'Oboe_40_Flute': 0, 'Oboe_41_Flute': 0, 'Oboe_42_Flute': 0, 'Oboe_43_Flute': 1, 'Oboe_44_Flute': 1, 'Oboe_45_Flute': 0, 'Oboe_46_Flute': 1, 'Oboe_47_Flute': 1, 'Oboe_48_Flute': 1, 'Oboe_49_Flute': 0, 'Oboe_4_Flute': 0, 'Oboe_50_Flute': 0, 'Oboe_51_Flute': 0, 'Oboe_52_Flute': 0, 'Oboe_53_Flute': 0, 'Oboe_54_Flute': 0, 'Oboe_55_Flute': 1, 'Oboe_56_Flute': 0, 'Oboe_57_Flute': 0, 'Oboe_58_Flute': 0, 'Oboe_59_Flute': 0, 'Oboe_5_Flute': 0, 'Oboe_60_Flute': 0, 'Oboe_61_Flute': 0, 'Oboe_62_Flute': 0, 'Oboe_6_Flute': 1, 'Oboe_7_Flute': 1, 'Oboe_8_Flute': 1, 'Oboe_9_Flute': 0, 'Timpani_10_Flute': 0, 'Timpani_11_Flute': 0, 'Timpani_12_Flute': 0, 'Timpani_13_Flute': 0, 'Timpani_14_Flute': 0, 'Timpani_15_Flute': 0, 'Timpani_16_Flute': 0, 'Timpani_17_Flute': 0, 'Timpani_18_Flute': 0, 'Timpani_19_Flute': 1, 'Timpani_1_Flute': 0, 'Timpani_20_Flute': 0, 'Timpani_21_Flute': 0, 'Timpani_22_Flute': 0, 'Timpani_23_Flute': 0, 'Timpani_24_Flute': 0, 'Timpani_25_Flute': 0, 'Timpani_26_Flute': 0, 'Timpani_27_Flute': 0, 'Timpani_28_Flute': 0, 'Timpani_29_Flute': 0, 'Timpani_2_Flute': 1, 'Timpani_30_Flute': 0, 'Timpani_31_Flute': 0, 'Timpani_32_Flute': 1, 'Timpani_33_Flute': 1, 'Timpani_34_Flute': 0, 'Timpani_35_Flute': 0, 'Timpani_36_Flute': 1, 'Timpani_37_Flute': 0, 'Timpani_38_Flute': 0, 'Timpani_39_Flute': 0, 'Timpani_3_Flute': 0, 'Timpani_40_Flute': 0, 'Timpani_41_Flute': 1, 'Timpani_42_Flute': 0, 'Timpani_43_Flute': 0, 'Timpani_4_Flute': 0, 'Timpani_5_Flute': 0, 'Timpani_6_Flute': 0, 'Timpani_7_Flute': 0, 'Timpani_8_Flute': 0, 'Timpani_9_Flute': 0, 'Violas_100_Flute': 0, 'Violas_101_Flute': 0, 'Violas_102_Flute': 0, 'Violas_103_Flute': 0, 'Violas_104_Flute': 0, 'Violas_105_Flute': 0, 'Violas_106_Flute': 0, 'Violas_107_Flute': 1, 'Violas_108_Flute': 1, 'Violas_109_Flute': 1, 'Violas_10_Flute': 0, 'Violas_110_Flute': 0, 'Violas_111_Flute': 0, 'Violas_112_Flute': 0, 'Violas_113_Flute': 0, 'Violas_114_Flute': 0, 'Violas_115_Flute': 0, 'Violas_116_Flute': 0, 'Violas_117_Flute': 0, 'Violas_118_Flute': 0, 'Violas_119_Flute': 0, 'Violas_11_Flute': 0, 'Violas_120_Flute': 1, 'Violas_121_Flute': 1, 'Violas_122_Flute': 0, 'Violas_123_Flute': 1, 'Violas_124_Flute': 0, 'Violas_125_Flute': 0, 'Violas_126_Flute': 1, 'Violas_127_Flute': 0, 'Violas_128_Flute': 1, 'Violas_129_Flute': 0, 'Violas_12_Flute': 0, 'Violas_130_Flute': 1, 'Violas_131_Flute': 1, 'Violas_132_Flute': 1, 'Violas_133_Flute': 0, 'Violas_134_Flute': 1, 'Violas_135_Flute': 0, 'Violas_136_Flute': 0, 'Violas_137_Flute': 0, 'Violas_138_Flute': 0, 'Violas_139_Flute': 1, 'Violas_13_Flute': 0, 'Violas_140_Flute': 0, 'Violas_141_Flute': 0, 'Violas_142_Flute': 1, 'Violas_143_Flute': 0, 'Violas_144_Flute': 0, 'Violas_145_Flute': 0, 'Violas_146_Flute': 1, 'Violas_147_Flute': 1, 'Violas_148_Flute': 1, 'Violas_149_Flute': 0, 'Violas_14_Flute': 0, 'Violas_150_Flute': 0, 'Violas_151_Flute': 1, 'Violas_152_Flute': 0, 'Violas_153_Flute': 1, 'Violas_154_Flute': 1, 'Violas_155_Flute': 0, 'Violas_156_Flute': 0, 'Violas_157_Flute': 0, 'Violas_158_Flute': 0, 'Violas_159_Flute': 0, 'Violas_15_Flute': 0, 'Violas_160_Flute': 1, 'Violas_161_Flute': 0, 'Violas_162_Flute': 0, 'Violas_163_Flute': 0, 'Violas_164_Flute': 0, 'Violas_165_Flute': 1, 'Violas_166_Flute': 0, 'Violas_167_Flute': 0, 'Violas_168_Flute': 1, 'Violas_169_Flute': 1, 'Violas_16_Flute': 0, 'Violas_170_Flute': 1, 'Violas_171_Flute': 1, 'Violas_172_Flute': 0, 'Violas_173_Flute': 0, 'Violas_174_Flute': 1, 'Violas_17_Flute': 1, 'Violas_18_Flute': 0, 'Violas_19_Flute': 0, 'Violas_1_Flute': 1, 'Violas_20_Flute': 0, 'Violas_21_Flute': 0, 'Violas_22_Flute': 1, 'Violas_23_Flute': 1, 'Violas_24_Flute': 0, 'Violas_25_Flute': 0, 'Violas_26_Flute': 1, 'Violas_27_Flute': 1, 'Violas_28_Flute': 1, 'Violas_29_Flute': 0, 'Violas_2_Flute': 0, 'Violas_30_Flute': 0, 'Violas_31_Flute': 1, 'Violas_32_Flute': 0, 'Violas_33_Flute': 0, 'Violas_34_Flute': 0, 'Violas_35_Flute': 0, 'Violas_36_Flute': 0, 'Violas_37_Flute': 1, 'Violas_38_Flute': 0, 'Violas_39_Flute': 0, 'Violas_3_Flute': 1, 'Violas_40_Flute': 1, 'Violas_41_Flute': 1, 'Violas_42_Flute': 0, 'Violas_43_Flute': 1, 'Violas_44_Flute': 1, 'Violas_45_Flute': 1, 'Violas_46_Flute': 0, 'Violas_47_Flute': 0, 'Violas_48_Flute': 0, 'Violas_49_Flute': 0, 'Violas_4_Flute': 0, 'Violas_50_Flute': 0, 'Violas_51_Flute': 0, 'Violas_52_Flute': 0, 'Violas_53_Flute': 0, 'Violas_54_Flute': 0, 'Violas_55_Flute': 0, 'Violas_56_Flute': 0, 'Violas_57_Flute': 0, 'Violas_58_Flute': 1, 'Violas_59_Flute': 0, 'Violas_5_Flute': 0, 'Violas_60_Flute': 0, 'Violas_61_Flute': 0, 'Violas_62_Flute': 1, 'Violas_63_Flute': 0, 'Violas_64_Flute': 0, 'Violas_65_Flute': 1, 'Violas_66_Flute': 0, 'Violas_67_Flute': 0, 'Violas_68_Flute': 0, 'Violas_69_Flute': 1, 'Violas_6_Flute': 1, 'Violas_70_Flute': 0, 'Violas_71_Flute': 0, 'Violas_72_Flute': 0, 'Violas_73_Flute': 0, 'Violas_74_Flute': 0, 'Violas_75_Flute': 1, 'Violas_76_Flute': 1, 'Violas_77_Flute': 0, 'Violas_78_Flute': 1, 'Violas_79_Flute': 0, 'Violas_7_Flute': 0, 'Violas_80_Flute': 0, 'Violas_81_Flute': 0, 'Violas_82_Flute': 0, 'Violas_83_Flute': 0, 'Violas_84_Flute': 1, 'Violas_85_Flute': 1, 'Violas_86_Flute': 1, 'Violas_87_Flute': 1, 'Violas_88_Flute': 1, 'Violas_89_Flute': 0, 'Violas_8_Flute': 0, 'Violas_90_Flute': 0, 'Violas_91_Flute': 1, 'Violas_92_Flute': 0, 'Violas_93_Flute': 0, 'Violas_94_Flute': 0, 'Violas_95_Flute': 0, 'Violas_96_Flute': 1, 'Violas_97_Flute': 1, 'Violas_98_Flute': 1, 'Violas_99_Flute': 0, 'Violas_9_Flute': 0, 'Violins II_100_Flute': 0, 'Violins II_101_Flute': 1, 'Violins II_102_Flute': 0, 'Violins II_103_Flute': 0, 'Violins II_104_Flute': 0, 'Violins II_105_Flute': 0, 'Violins II_106_Flute': 0, 'Violins II_107_Flute': 1, 'Violins II_108_Flute': 1, 'Violins II_109_Flute': 0, 'Violins II_10_Flute': 0, 'Violins II_110_Flute': 0, 'Violins II_111_Flute': 0, 'Violins II_11_Flute': 0, 'Violins II_12_Flute': 0, 'Violins II_13_Flute': 0, 'Violins II_14_Flute': 0, 'Violins II_15_Flute': 0, 'Violins II_16_Flute': 0, 'Violins II_17_Flute': 0, 'Violins II_18_Flute': 0, 'Violins II_19_Flute': 0, 'Violins II_1_Flute': 0, 'Violins II_20_Flute': 0, 'Violins II_21_Flute': 0, 'Violins II_22_Flute': 0, 'Violins II_23_Flute': 0, 'Violins II_24_Flute': 0, 'Violins II_25_Flute': 0, 'Violins II_26_Flute': 0, 'Violins II_27_Flute': 0, 'Violins II_28_Flute': 0, 'Violins II_29_Flute': 0, 'Violins II_2_Flute': 0, 'Violins II_30_Flute': 0, 'Violins II_31_Flute': 0, 'Violins II_32_Flute': 0, 'Violins II_33_Flute': 0, 'Violins II_34_Flute': 0, 'Violins II_35_Flute': 0, 'Violins II_36_Flute': 0, 'Violins II_37_Flute': 0, 'Violins II_38_Flute': 1, 'Violins II_39_Flute': 0, 'Violins II_3_Flute': 0, 'Violins II_40_Flute': 0, 'Violins II_41_Flute': 0, 'Violins II_42_Flute': 0, 'Violins II_43_Flute': 0, 'Violins II_44_Flute': 0, 'Violins II_45_Flute': 1, 'Violins II_46_Flute': 0, 'Violins II_47_Flute': 0, 'Violins II_48_Flute': 1, 'Violins II_49_Flute': 0, 'Violins II_4_Flute': 0, 'Violins II_50_Flute': 0, 'Violins II_51_Flute': 0, 'Violins II_52_Flute': 0, 'Violins II_53_Flute': 0, 'Violins II_54_Flute': 0, 'Violins II_55_Flute': 0, 'Violins II_56_Flute': 0, 'Violins II_57_Flute': 0, 'Violins II_58_Flute': 0, 'Violins II_59_Flute': 0, 'Violins II_5_Flute': 0, 'Violins II_60_Flute': 0, 'Violins II_61_Flute': 0, 'Violins II_62_Flute': 1, 'Violins II_63_Flute': 0, 'Violins II_64_Flute': 1, 'Violins II_65_Flute': 1, 'Violins II_66_Flute': 0, 'Violins II_67_Flute': 0, 'Violins II_68_Flute': 0, 'Violins II_69_Flute': 1, 'Violins II_6_Flute': 0, 'Violins II_70_Flute': 0, 'Violins II_71_Flute': 0, 'Violins II_72_Flute': 0, 'Violins II_73_Flute': 0, 'Violins II_74_Flute': 0, 'Violins II_75_Flute': 1, 'Violins II_76_Flute': 0, 'Violins II_77_Flute': 0, 'Violins II_78_Flute': 0, 'Violins II_79_Flute': 0, 'Violins II_7_Flute': 0, 'Violins II_80_Flute': 0, 'Violins II_81_Flute': 0, 'Violins II_82_Flute': 0, 'Violins II_83_Flute': 0, 'Violins II_84_Flute': 1, 'Violins II_85_Flute': 1, 'Violins II_86_Flute': 0, 'Violins II_87_Flute': 1, 'Violins II_88_Flute': 0, 'Violins II_89_Flute': 0, 'Violins II_8_Flute': 0, 'Violins II_90_Flute': 0, 'Violins II_91_Flute': 0, 'Violins II_92_Flute': 0, 'Violins II_93_Flute': 0, 'Violins II_94_Flute': 0, 'Violins II_95_Flute': 0, 'Violins II_96_Flute': 1, 'Violins II_97_Flute': 1, 'Violins II_98_Flute': 0, 'Violins II_99_Flute': 1, 'Violins II_9_Flute': 0, 'Violins I_100_Flute': 0, 'Violins I_101_Flute': 0, 'Violins I_102_Flute': 0, 'Violins I_103_Flute': 0, 'Violins I_104_Flute': 0, 'Violins I_105_Flute': 1, 'Violins I_106_Flute': 0, 'Violins I_107_Flute': 1, 'Violins I_108_Flute': 1, 'Violins I_109_Flute': 0, 'Violins I_10_Flute': 0, 'Violins I_110_Flute': 0, 'Violins I_111_Flute': 0, 'Violins I_112_Flute': 0, 'Violins I_113_Flute': 1, 'Violins I_114_Flute': 0, 'Violins I_115_Flute': 0, 'Violins I_116_Flute': 1, 'Violins I_117_Flute': 0, 'Violins I_118_Flute': 1, 'Violins I_119_Flute': 0, 'Violins I_11_Flute': 1, 'Violins I_120_Flute': 1, 'Violins I_121_Flute': 0, 'Violins I_122_Flute': 0, 'Violins I_123_Flute': 0, 'Violins I_124_Flute': 1, 'Violins I_125_Flute': 1, 'Violins I_126_Flute': 0, 'Violins I_127_Flute': 0, 'Violins I_128_Flute': 1, 'Violins I_129_Flute': 1, 'Violins I_12_Flute': 0, 'Violins I_130_Flute': 1, 'Violins I_131_Flute': 0, 'Violins I_132_Flute': 0, 'Violins I_133_Flute': 0, 'Violins I_134_Flute': 0, 'Violins I_135_Flute': 0, 'Violins I_136_Flute': 0, 'Violins I_137_Flute': 0, 'Violins I_138_Flute': 0, 'Violins I_139_Flute': 0, 'Violins I_13_Flute': 0, 'Violins I_140_Flute': 0, 'Violins I_141_Flute': 0, 'Violins I_142_Flute': 1, 'Violins I_143_Flute': 0, 'Violins I_144_Flute': 0, 'Violins I_145_Flute': 1, 'Violins I_146_Flute': 0, 'Violins I_147_Flute': 1, 'Violins I_148_Flute': 0, 'Violins I_149_Flute': 0, 'Violins I_14_Flute': 1, 'Violins I_150_Flute': 0, 'Violins I_151_Flute': 0, 'Violins I_152_Flute': 0, 'Violins I_153_Flute': 0, 'Violins I_154_Flute': 1, 'Violins I_155_Flute': 0, 'Violins I_156_Flute': 0, 'Violins I_157_Flute': 0, 'Violins I_158_Flute': 0, 'Violins I_159_Flute': 1, 'Violins I_15_Flute': 1, 'Violins I_160_Flute': 0, 'Violins I_161_Flute': 0, 'Violins I_162_Flute': 0, 'Violins I_163_Flute': 0, 'Violins I_164_Flute': 0, 'Violins I_165_Flute': 0, 'Violins I_166_Flute': 1, 'Violins I_167_Flute': 0, 'Violins I_168_Flute': 0, 'Violins I_169_Flute': 0, 'Violins I_16_Flute': 1, 'Violins I_170_Flute': 1, 'Violins I_171_Flute': 0, 'Violins I_17_Flute': 1, 'Violins I_18_Flute': 0, 'Violins I_19_Flute': 0, 'Violins I_1_Flute': 1, 'Violins I_20_Flute': 0, 'Violins I_21_Flute': 0, 'Violins I_22_Flute': 0, 'Violins I_23_Flute': 0, 'Violins I_24_Flute': 0, 'Violins I_25_Flute': 0, 'Violins I_26_Flute': 0, 'Violins I_27_Flute': 0, 'Violins I_28_Flute': 0, 'Violins I_29_Flute': 0, 'Violins I_2_Flute': 0, 'Violins I_30_Flute': 0, 'Violins I_31_Flute': 0, 'Violins I_32_Flute': 0, 'Violins I_33_Flute': 0, 'Violins I_34_Flute': 0, 'Violins I_35_Flute': 1, 'Violins I_36_Flute': 1, 'Violins I_37_Flute': 0, 'Violins I_38_Flute': 0, 'Violins I_39_Flute': 0, 'Violins I_3_Flute': 1, 'Violins I_40_Flute': 1, 'Violins I_41_Flute': 1, 'Violins I_42_Flute': 0, 'Violins I_43_Flute': 0, 'Violins I_44_Flute': 0, 'Violins I_45_Flute': 1, 'Violins I_46_Flute': 0, 'Violins I_47_Flute': 0, 'Violins I_48_Flute': 0, 'Violins I_49_Flute': 0, 'Violins I_4_Flute': 1, 'Violins I_50_Flute': 0, 'Violins I_51_Flute': 0, 'Violins I_52_Flute': 0, 'Violins I_53_Flute': 0, 'Violins I_54_Flute': 0, 'Violins I_55_Flute': 0, 'Violins I_56_Flute': 1, 'Violins I_57_Flute': 1, 'Violins I_58_Flute': 1, 'Violins I_59_Flute': 0, 'Violins I_5_Flute': 0, 'Violins I_60_Flute': 0, 'Violins I_61_Flute': 1, 'Violins I_62_Flute': 0, 'Violins I_63_Flute': 0, 'Violins I_64_Flute': 1, 'Violins I_65_Flute': 1, 'Violins I_66_Flute': 1, 'Violins I_67_Flute': 0, 'Violins I_68_Flute': 0, 'Violins I_69_Flute': 0, 'Violins I_6_Flute': 0, 'Violins I_70_Flute': 0, 'Violins I_71_Flute': 0, 'Violins I_72_Flute': 0, 'Violins I_73_Flute': 1, 'Violins I_74_Flute': 0, 'Violins I_75_Flute': 0, 'Violins I_76_Flute': 0, 'Violins I_77_Flute': 0, 'Violins I_78_Flute': 0, 'Violins I_79_Flute': 0, 'Violins I_7_Flute': 0, 'Violins I_80_Flute': 0, 'Violins I_81_Flute': 1, 'Violins I_82_Flute': 0, 'Violins I_83_Flute': 0, 'Violins I_84_Flute': 0, 'Violins I_85_Flute': 0, 'Violins I_86_Flute': 0, 'Violins I_87_Flute': 0, 'Violins I_88_Flute': 0, 'Violins I_89_Flute': 1, 'Violins I_8_Flute': 0, 'Violins I_90_Flute': 0, 'Violins I_91_Flute': 0, 'Violins I_92_Flute': 0, 'Violins I_93_Flute': 0, 'Violins I_94_Flute': 0, 'Violins I_95_Flute': 0, 'Violins I_96_Flute': 0, 'Violins I_97_Flute': 0, 'Violins I_98_Flute': 1, 'Violins I_99_Flute': 1, 'Violins I_9_Flute': 0, 'Violoncellos_100_Flute': 1, 'Violoncellos_101_Flute': 0, 'Violoncellos_102_Flute': 1, 'Violoncellos_103_Flute': 0, 'Violoncellos_104_Flute': 0, 'Violoncellos_105_Flute': 1, 'Violoncellos_106_Flute': 0, 'Violoncellos_107_Flute': 1, 'Violoncellos_108_Flute': 0, 'Violoncellos_109_Flute': 0, 'Violoncellos_10_Flute': 0, 'Violoncellos_110_Flute': 0, 'Violoncellos_111_Flute': 0, 'Violoncellos_112_Flute': 0, 'Violoncellos_113_Flute': 0, 'Violoncellos_114_Flute': 1, 'Violoncellos_115_Flute': 1, 'Violoncellos_116_Flute': 0, 'Violoncellos_117_Flute': 0, 'Violoncellos_118_Flute': 1, 'Violoncellos_119_Flute': 0, 'Violoncellos_11_Flute': 0, 'Violoncellos_120_Flute': 1, 'Violoncellos_121_Flute': 1, 'Violoncellos_122_Flute': 1, 'Violoncellos_123_Flute': 0, 'Violoncellos_124_Flute': 1, 'Violoncellos_125_Flute': 1, 'Violoncellos_126_Flute': 1, 'Violoncellos_127_Flute': 1, 'Violoncellos_128_Flute': 1, 'Violoncellos_129_Flute': 1, 'Violoncellos_12_Flute': 1, 'Violoncellos_130_Flute': 1, 'Violoncellos_131_Flute': 1, 'Violoncellos_132_Flute': 0, 'Violoncellos_133_Flute': 0, 'Violoncellos_134_Flute': 0, 'Violoncellos_135_Flute': 0, 'Violoncellos_136_Flute': 0, 'Violoncellos_137_Flute': 0, 'Violoncellos_138_Flute': 0, 'Violoncellos_139_Flute': 1, 'Violoncellos_13_Flute': 0, 'Violoncellos_140_Flute': 0, 'Violoncellos_141_Flute': 0, 'Violoncellos_142_Flute': 0, 'Violoncellos_143_Flute': 0, 'Violoncellos_144_Flute': 0, 'Violoncellos_145_Flute': 1, 'Violoncellos_146_Flute': 0, 'Violoncellos_147_Flute': 0, 'Violoncellos_148_Flute': 0, 'Violoncellos_149_Flute': 0, 'Violoncellos_14_Flute': 0, 'Violoncellos_150_Flute': 0, 'Violoncellos_151_Flute': 0, 'Violoncellos_152_Flute': 0, 'Violoncellos_153_Flute': 0, 'Violoncellos_154_Flute': 0, 'Violoncellos_155_Flute': 0, 'Violoncellos_156_Flute': 0, 'Violoncellos_157_Flute': 0, 'Violoncellos_158_Flute': 0, 'Violoncellos_159_Flute': 0, 'Violoncellos_15_Flute': 0, 'Violoncellos_160_Flute': 0, 'Violoncellos_161_Flute': 0, 'Violoncellos_162_Flute': 0, 'Violoncellos_163_Flute': 0, 'Violoncellos_164_Flute': 0, 'Violoncellos_165_Flute': 0, 'Violoncellos_166_Flute': 0, 'Violoncellos_16_Flute': 0, 'Violoncellos_17_Flute': 0, 'Violoncellos_18_Flute': 0, 'Violoncellos_19_Flute': 0, 'Violoncellos_1_Flute': 0, 'Violoncellos_20_Flute': 1, 'Violoncellos_21_Flute': 1, 'Violoncellos_22_Flute': 1, 'Violoncellos_23_Flute': 0, 'Violoncellos_24_Flute': 1, 'Violoncellos_25_Flute': 1, 'Violoncellos_26_Flute': 0, 'Violoncellos_27_Flute': 0, 'Violoncellos_28_Flute': 1, 'Violoncellos_29_Flute': 0, 'Violoncellos_2_Flute': 0, 'Violoncellos_30_Flute': 0, 'Violoncellos_31_Flute': 0, 'Violoncellos_32_Flute': 0, 'Violoncellos_33_Flute': 1, 'Violoncellos_34_Flute': 1, 'Violoncellos_35_Flute': 0, 'Violoncellos_36_Flute': 1, 'Violoncellos_37_Flute': 0, 'Violoncellos_38_Flute': 0, 'Violoncellos_39_Flute': 0, 'Violoncellos_3_Flute': 0, 'Violoncellos_40_Flute': 1, 'Violoncellos_41_Flute': 0, 'Violoncellos_42_Flute': 0, 'Violoncellos_43_Flute': 0, 'Violoncellos_44_Flute': 0, 'Violoncellos_45_Flute': 0, 'Violoncellos_46_Flute': 0, 'Violoncellos_47_Flute': 1, 'Violoncellos_48_Flute': 0, 'Violoncellos_49_Flute': 0, 'Violoncellos_4_Flute': 0, 'Violoncellos_50_Flute': 0, 'Violoncellos_51_Flute': 1, 'Violoncellos_52_Flute': 0, 'Violoncellos_53_Flute': 1, 'Violoncellos_54_Flute': 0, 'Violoncellos_55_Flute': 1, 'Violoncellos_56_Flute': 1, 'Violoncellos_57_Flute': 0, 'Violoncellos_58_Flute': 0, 'Violoncellos_59_Flute': 0, 'Violoncellos_5_Flute': 0, 'Violoncellos_60_Flute': 0, 'Violoncellos_61_Flute': 0, 'Violoncellos_62_Flute': 1, 'Violoncellos_63_Flute': 0, 'Violoncellos_64_Flute': 0, 'Violoncellos_65_Flute': 0, 'Violoncellos_66_Flute': 0, 'Violoncellos_67_Flute': 1, 'Violoncellos_68_Flute': 0, 'Violoncellos_69_Flute': 0, 'Violoncellos_6_Flute': 0, 'Violoncellos_70_Flute': 0, 'Violoncellos_71_Flute': 0, 'Violoncellos_72_Flute': 0, 'Violoncellos_73_Flute': 0, 'Violoncellos_74_Flute': 1, 'Violoncellos_75_Flute': 1, 'Violoncellos_76_Flute': 1, 'Violoncellos_77_Flute': 0, 'Violoncellos_78_Flute': 0, 'Violoncellos_79_Flute': 0, 'Violoncellos_7_Flute': 0, 'Violoncellos_80_Flute': 0, 'Violoncellos_81_Flute': 0, 'Violoncellos_82_Flute': 1, 'Violoncellos_83_Flute': 0, 'Violoncellos_84_Flute': 0, 'Violoncellos_85_Flute': 0, 'Violoncellos_86_Flute': 0, 'Violoncellos_87_Flute': 0, 'Violoncellos_88_Flute': 0, 'Violoncellos_89_Flute': 0, 'Violoncellos_8_Flute': 0, 'Violoncellos_90_Flute': 0, 'Violoncellos_91_Flute': 0, 'Violoncellos_92_Flute': 1, 'Violoncellos_93_Flute': 1, 'Violoncellos_94_Flute': 1, 'Violoncellos_95_Flute': 0, 'Violoncellos_96_Flute': 1, 'Violoncellos_97_Flute': 1, 'Violoncellos_98_Flute': 0, 'Violoncellos_99_Flute': 1, 'Violoncellos_9_Flute': 0}\n",
      "4\n"
     ]
    }
   ],
   "source": [
    "print(sample.sample)\n",
    "print(sum(1 for n in range(4)))"
   ]
  },
  {
   "cell_type": "code",
   "execution_count": null,
   "metadata": {},
   "outputs": [],
   "source": [
    "# Edge constraint\n",
    "\n",
    "multipliers = np.arange(1.0, 10.5, .5)\n",
    "reads = 2000\n",
    "\n",
    "file = pd.DataFrame()\n",
    "\n",
    "for m in multipliers:\n",
    "    bqm = createBQM(G, phrases, instruments, m, 1, 1)\n",
    "    sampleset = sampler.sample(bqm, num_reads=reads, label=f\"Haydn_{reads}\")\n",
    "    sample = sampleset.first\n",
    "\n",
    "    new_row = pd.DataFrame({\n",
    "        \"Multiplier\": [m],\n",
    "        \"Lowest energy\": [bqm.energy(sample.sample)],\n",
    "        \"Chain break fraction\": [sample.chain_break_fraction],\n",
    "        \"Overlaps\": [overlaps(G)]\n",
    "        })\n",
    "    \n",
    "    file = pd.concat([file, new_row])\n",
    "    \n",
    "    print(f\"Multiplier {m} recorded!\")\n",
    "\n",
    "file.to_csv(dataPath+\"lagrange-node.csv\", index=False, mode=\"a\", header=True)"
   ]
  }
 ],
 "metadata": {
  "kernelspec": {
   "display_name": "Python 3",
   "language": "python",
   "name": "python3"
  },
  "language_info": {
   "codemirror_mode": {
    "name": "ipython",
    "version": 3
   },
   "file_extension": ".py",
   "mimetype": "text/x-python",
   "name": "python",
   "nbconvert_exporter": "python",
   "pygments_lexer": "ipython3",
   "version": "3.11.5"
  }
 },
 "nbformat": 4,
 "nbformat_minor": 2
}
