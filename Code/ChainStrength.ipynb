{
 "cells": [
  {
   "cell_type": "code",
   "execution_count": null,
   "metadata": {},
   "outputs": [],
   "source": [
    "IDENTIFIER = \"beethoven-op67\"\n",
    "NUM = 4\n",
    "\n",
    "import json\n",
    "import networkx as nx\n",
    "import pandas as pd\n",
    "from dwave.system import DWaveSampler, FixedEmbeddingComposite\n",
    "\n",
    "from plots import plotCSV\n",
    "from qubo import createBQM\n",
    "from samples import firstValid, totalEntropy, duplicates, overlaps\n",
    "\n",
    "\n",
    "picklePath = f\"../Pickles/{IDENTIFIER}/{IDENTIFIER}_\"\n",
    "numPath = f\"../Pickles/{IDENTIFIER}/{NUM}/{IDENTIFIER}_{NUM}_\"\n",
    "dataPath = f\"../Data/{IDENTIFIER}/{NUM}/{IDENTIFIER}_{NUM}_\"\n",
    "\n",
    "phrases = pd.read_csv(picklePath + \"phrases.csv\", index_col=[0,1])\n",
    "G = nx.read_graphml(picklePath + \"graph.graphml\")\n",
    "instruments = json.load(open(numPath + \"instruments.json\"))\n",
    "embedding = json.load(open(numPath + \"embedding.json\", \"r\"))\n",
    "qa = FixedEmbeddingComposite(DWaveSampler(), embedding)"
   ]
  },
  {
   "cell_type": "code",
   "execution_count": null,
   "metadata": {},
   "outputs": [],
   "source": [
    "bqm = createBQM(G, phrases, instruments, 6, 12, 1)\n",
    "sampleset = qa.sample(bqm, num_reads=100, label=f\"{IDENTIFIER}_{NUM}\")"
   ]
  },
  {
   "cell_type": "code",
   "execution_count": null,
   "metadata": {},
   "outputs": [],
   "source": [
    "sampleset.to_pandas_dataframe(True).sort_values(\"energy\").head()\n",
    "s = sampleset.first.sample\n",
    "\n",
    "print(duplicates(s, G))\n",
    "print(overlaps(s, G))\n",
    "\n",
    "#print(sampleset.filter(lambda d: duplicates(d.sample, G) == 0))\n",
    "print(sampleset.info)"
   ]
  },
  {
   "cell_type": "code",
   "execution_count": null,
   "metadata": {},
   "outputs": [],
   "source": [
    "def recordChainStrength(strengthRange, bqm, filepath: str) -> None:\n",
    "    \n",
    "    file = pd.DataFrame()\n",
    "    reads = 500\n",
    "\n",
    "    for s in strengthRange:\n",
    "        sampleset = qa.sample(bqm, num_reads=reads, chain_strength=s, label=f\"{IDENTIFIER}_{NUM}_cs={s}\")\n",
    "        sample = sampleset.first\n",
    "\n",
    "        new_row = pd.DataFrame({\n",
    "            #\"Chain strength\": [sampleset.info[\"embedding_context\"][\"chain_strength\"]],\n",
    "            \"Chain strength\": [s],\n",
    "            \"Total reads\": [reads],\n",
    "            \"Time\": [sampleset.info[\"timing\"][\"qpu_access_time\"]],\n",
    "            \"Chain break fraction\": [sample.chain_break_fraction],\n",
    "            \"Lowest energy\": [bqm.energy(sample.sample)],\n",
    "            \"Total entropy\": [totalEntropy(sample.sample, G)],\n",
    "            \"Overlaps\": [overlaps(sample.sample, G)],\n",
    "            \"Duplicates\": [duplicates(sample.sample, G)]\n",
    "            })\n",
    "    \n",
    "        print(f\"Chain strength {s} recorded!\")\n",
    "        file = pd.concat([file, new_row])\n",
    "\n",
    "    file.to_csv(filepath, index=False, mode=\"a\", header=False)\n",
    "\n",
    "# 10 to 50 repeated \n",
    "chainStrengths = range(10,51)\n",
    "bqm = createBQM(G, phrases, instruments, 6, 12, 1) # CHANGE\n",
    "\n",
    "for _ in range(3):\n",
    "    recordChainStrength(chainStrengths, bqm, dataPath+\"chain-strength.csv\")"
   ]
  },
  {
   "cell_type": "markdown",
   "metadata": {},
   "source": [
    "`haydn-op1` = 25\n",
    "\n",
    "`beethoven-op67` = 30"
   ]
  }
 ],
 "metadata": {
  "kernelspec": {
   "display_name": "Python 3",
   "language": "python",
   "name": "python3"
  },
  "language_info": {
   "codemirror_mode": {
    "name": "ipython",
    "version": 3
   },
   "file_extension": ".py",
   "mimetype": "text/x-python",
   "name": "python",
   "nbconvert_exporter": "python",
   "pygments_lexer": "ipython3",
   "version": "3.11.5"
  }
 },
 "nbformat": 4,
 "nbformat_minor": 2
}
