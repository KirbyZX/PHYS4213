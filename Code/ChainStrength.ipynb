{
 "cells": [
  {
   "cell_type": "code",
   "execution_count": 33,
   "metadata": {},
   "outputs": [],
   "source": [
    "IDENTIFIER = \"haydn-op1\"\n",
    "NUM = 3\n",
    "\n",
    "import json\n",
    "import networkx as nx\n",
    "import pandas as pd\n",
    "from dwave.system import DWaveSampler, FixedEmbeddingComposite\n",
    "\n",
    "from plots import plotCSV\n",
    "from qubo import createBQM\n",
    "from samples import firstValid, totalEntropy, duplicates, overlaps, extractChosen\n",
    "\n",
    "\n",
    "picklePath = f\"../Pickles/{IDENTIFIER}/{IDENTIFIER}_\"\n",
    "numPath = f\"../Pickles/{IDENTIFIER}/{NUM}/{IDENTIFIER}_{NUM}_\"\n",
    "dataPath = f\"../Data/{IDENTIFIER}/{NUM}/{IDENTIFIER}_{NUM}_\"\n",
    "\n",
    "phrases = pd.read_csv(picklePath + \"phrases.csv\", index_col=[0,1])\n",
    "G = nx.read_graphml(picklePath + \"graph.graphml\")\n",
    "instruments = json.load(open(numPath + \"instruments.json\"))\n",
    "embedding = json.load(open(numPath + \"embedding.json\", \"r\"))\n",
    "qa = FixedEmbeddingComposite(DWaveSampler(), embedding)"
   ]
  },
  {
   "cell_type": "code",
   "execution_count": 11,
   "metadata": {},
   "outputs": [],
   "source": [
    "bqm = createBQM(G, phrases, instruments, 6, 12, 1)\n",
    "sampleset = qa.sample(bqm, num_reads=100, label=f\"{IDENTIFIER}_{NUM}\")"
   ]
  },
  {
   "cell_type": "code",
   "execution_count": 30,
   "metadata": {},
   "outputs": [
    {
     "name": "stdout",
     "output_type": "stream",
     "text": [
      "1\n",
      "2\n",
      "{'timing': {'qpu_sampling_time': 26982.0, 'qpu_anneal_time_per_sample': 20.0, 'qpu_readout_time_per_sample': 229.24, 'qpu_access_time': 42746.76, 'qpu_access_overhead_time': 2531.24, 'qpu_programming_time': 15764.76, 'qpu_delay_time_per_sample': 20.58, 'post_processing_overhead_time': 53.0, 'total_post_processing_time': 53.0}, 'problem_id': '3a3e870d-ba00-44b8-9b6a-357536dff328', 'problem_label': 'beethoven-op67_4'}\n"
     ]
    }
   ],
   "source": [
    "sampleset.to_pandas_dataframe(True).sort_values(\"energy\").head()\n",
    "s = sampleset.first.sample\n",
    "\n",
    "print(duplicates(s, G))\n",
    "print(overlaps(s, G))\n",
    "\n",
    "#print(sampleset.filter(lambda d: duplicates(d.sample, G) == 0))\n",
    "print(sampleset.info)"
   ]
  },
  {
   "cell_type": "code",
   "execution_count": 35,
   "metadata": {},
   "outputs": [
    {
     "name": "stdout",
     "output_type": "stream",
     "text": [
      "Chain strength 40 recorded!\n",
      "Chain strength 41 recorded!\n",
      "Chain strength 42 recorded!\n",
      "Chain strength 43 recorded!\n",
      "Chain strength 44 recorded!\n",
      "Chain strength 45 recorded!\n",
      "Chain strength 46 recorded!\n",
      "Chain strength 47 recorded!\n",
      "Chain strength 48 recorded!\n",
      "Chain strength 49 recorded!\n",
      "Chain strength 50 recorded!\n"
     ]
    }
   ],
   "source": [
    "def recordChainStrength(strengthRange, bqm, filepath: str) -> None:\n",
    "    \n",
    "    file = pd.DataFrame()\n",
    "    reads = 1000\n",
    "\n",
    "    for s in strengthRange:\n",
    "        sampleset = qa.sample(bqm, num_reads=reads, chain_strength=s, label=f\"{IDENTIFIER}_{NUM}_cs={s}\")\n",
    "        sample = sampleset.first\n",
    "\n",
    "        new_row = pd.DataFrame({\n",
    "            #\"Chain strength\": [sampleset.info[\"embedding_context\"][\"chain_strength\"]],\n",
    "            \"Chain strength\": [s],\n",
    "            \"Total reads\": [reads],\n",
    "            \"Time\": [sampleset.info[\"timing\"][\"qpu_access_time\"]],\n",
    "            \"Chain break fraction\": [sample.chain_break_fraction],\n",
    "            \"Lowest energy\": [bqm.energy(sample.sample)],\n",
    "            \"Total entropy\": [totalEntropy(sample.sample, G)],\n",
    "            \"Overlaps\": [overlaps(sample.sample, G)],\n",
    "            \"Duplicates\": [duplicates(sample.sample, G)]\n",
    "            })\n",
    "    \n",
    "        print(f\"Chain strength {s} recorded!\")\n",
    "        file = pd.concat([file, new_row])\n",
    "\n",
    "    file.to_csv(filepath, index=False, mode=\"a\", header=False)\n",
    "\n",
    "# 10 to 50 repeated \n",
    "chainStrengths = range(40,51)\n",
    "bqm = createBQM(G, phrases, instruments, 6, 6, 1) # CHANGE\n",
    "recordChainStrength(chainStrengths, bqm, dataPath+\"chain-strength.csv\")"
   ]
  },
  {
   "cell_type": "code",
   "execution_count": 29,
   "metadata": {},
   "outputs": [
    {
     "data": {
      "image/png": "[encoded data removed]",
      "text/plain": [
       "<Figure size 640x480 with 1 Axes>"
      ]
     },
     "metadata": {},
     "output_type": "display_data"
    }
   ],
   "source": [
    "plotCSV(dataPath+\"chain-strength.csv\", \"Chain strength\", \"Lowest energy\", \"tab:blue\")\n",
    "\n",
    "# ~25 optimal???\n",
    "# chain_break_method=chain_breaks.discard?????\n",
    "# Don't care about chain breaks, only valid solutions"
   ]
  },
  {
   "cell_type": "markdown",
   "metadata": {},
   "source": [
    "`haydn-op1` = 25\n",
    "\n",
    "`beethoven-op67` = 30"
   ]
  }
 ],
 "metadata": {
  "kernelspec": {
   "display_name": "Python 3",
   "language": "python",
   "name": "python3"
  },
  "language_info": {
   "codemirror_mode": {
    "name": "ipython",
    "version": 3
   },
   "file_extension": ".py",
   "mimetype": "text/x-python",
   "name": "python",
   "nbconvert_exporter": "python",
   "pygments_lexer": "ipython3",
   "version": "3.11.5"
  }
 },
 "nbformat": 4,
 "nbformat_minor": 2
}
