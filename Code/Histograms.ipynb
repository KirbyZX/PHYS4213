{
 "cells": [
  {
   "cell_type": "code",
   "execution_count": null,
   "id": "304c2beb",
   "metadata": {},
   "outputs": [],
   "source": [
    "IDENTIFIER = \"beethoven-op67\"\n",
    "NUM = 3\n",
    "\n",
    "import networkx as nx\n",
    "import matplotlib as mpl\n",
    "import matplotlib.pyplot as plt\n",
    "import json\n",
    "import pandas as pd\n",
    "import numpy as np\n",
    "\n",
    "from dwave.system import DWaveSampler, FixedEmbeddingComposite\n",
    "\n",
    "from plots import plotHistogram, plotEnergyGaps\n",
    "from qubo import createBQM\n",
    "\n",
    "picklePath = f\"../Pickles/{IDENTIFIER}/{IDENTIFIER}_\"\n",
    "numPath = f\"../Pickles/{IDENTIFIER}/{NUM}/{IDENTIFIER}_{NUM}_\"\n",
    "dataPath = f\"../Data/{IDENTIFIER}/{NUM}/{IDENTIFIER}_{NUM}_\"\n",
    "\n",
    "phrases = pd.read_csv(picklePath + \"phrases.csv\", index_col=[0,1])\n",
    "G = nx.read_graphml(picklePath + \"graph.graphml\")\n",
    "instruments = json.load(open(numPath + \"instruments.json\"))\n",
    "embedding = json.load(open(numPath + \"embedding.json\", \"r\"))\n",
    "sampler = FixedEmbeddingComposite(DWaveSampler(), embedding)"
   ]
  },
  {
   "cell_type": "code",
   "execution_count": null,
   "id": "fafd0fce",
   "metadata": {},
   "outputs": [],
   "source": [
    "bqm = createBQM(G, phrases, instruments, 6, 12, 1)\n",
    "r = 2000\n",
    "cs = 30\n",
    "at = 200\n",
    "sampleset = sampler.sample(bqm, num_reads=r, chain_strength=cs, annealing_time=at, label=f\"{IDENTIFIER}_{r}_{cs}_{at}us\")\n",
    "sampleset.to_pandas_dataframe(True).to_csv(dataPath + \"sampleset.csv\")"
   ]
  },
  {
   "cell_type": "code",
   "execution_count": null,
   "id": "4336b198",
   "metadata": {},
   "outputs": [],
   "source": [
    "df = pd.read_csv(dataPath + \"sampleset.csv\")\n",
    "\n",
    "plotHistogram(df)\n",
    "plt.show()\n",
    "plotEnergyGaps(df)\n",
    "plt.show()"
   ]
  }
 ],
 "metadata": {
  "kernelspec": {
   "display_name": "Python 3",
   "language": "python",
   "name": "python3"
  },
  "language_info": {
   "codemirror_mode": {
    "name": "ipython",
    "version": 3
   },
   "file_extension": ".py",
   "mimetype": "text/x-python",
   "name": "python",
   "nbconvert_exporter": "python",
   "pygments_lexer": "ipython3",
   "version": "3.11.5"
  }
 },
 "nbformat": 4,
 "nbformat_minor": 5
}
