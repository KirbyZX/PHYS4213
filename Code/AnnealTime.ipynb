{
 "cells": [
  {
   "cell_type": "code",
   "execution_count": 3,
   "metadata": {},
   "outputs": [],
   "source": [
    "IDENTIFIER = \"haydn-op1\"\n",
    "NUM = 3\n",
    "\n",
    "import json\n",
    "import networkx as nx\n",
    "import pandas as pd\n",
    "from dwave.system import DWaveSampler, FixedEmbeddingComposite\n",
    "\n",
    "from plots import plotCSV\n",
    "from qubo import createBQM\n",
    "from samples import totalEntropy\n",
    "\n",
    "\n",
    "picklePath = f\"../Pickles/{IDENTIFIER}/{IDENTIFIER}_\"\n",
    "numPath = f\"../Pickles/{IDENTIFIER}/{NUM}/{IDENTIFIER}_{NUM}_\"\n",
    "dataPath = f\"../Data/{IDENTIFIER}/{NUM}/{IDENTIFIER}_{NUM}_\"\n",
    "\n",
    "phrases = pd.read_csv(picklePath + \"phrases.csv\", index_col=[0,1])\n",
    "G = nx.read_graphml(picklePath + \"graph.graphml\")\n",
    "instruments = json.load(open(numPath + \"instruments.json\"))\n",
    "embedding = json.load(open(numPath + \"embedding.json\", \"r\"))\n",
    "qa = FixedEmbeddingComposite(DWaveSampler(), embedding)"
   ]
  },
  {
   "cell_type": "code",
   "execution_count": 5,
   "metadata": {},
   "outputs": [
    {
     "name": "stdout",
     "output_type": "stream",
     "text": [
      "Anneal time 10 us recorded!\n",
      "Anneal time 20 us recorded!\n",
      "Anneal time 30 us recorded!\n",
      "Anneal time 40 us recorded!\n",
      "Anneal time 50 us recorded!\n",
      "Anneal time 60 us recorded!\n",
      "Anneal time 70 us recorded!\n",
      "Anneal time 80 us recorded!\n",
      "Anneal time 90 us recorded!\n",
      "Anneal time 100 us recorded!\n",
      "Anneal time 110 us recorded!\n",
      "Anneal time 120 us recorded!\n",
      "Anneal time 130 us recorded!\n",
      "Anneal time 140 us recorded!\n",
      "Anneal time 150 us recorded!\n",
      "Anneal time 160 us recorded!\n",
      "Anneal time 170 us recorded!\n",
      "Anneal time 180 us recorded!\n",
      "Anneal time 190 us recorded!\n",
      "Anneal time 200 us recorded!\n",
      "Anneal time 210 us recorded!\n",
      "Anneal time 220 us recorded!\n",
      "Anneal time 230 us recorded!\n",
      "Anneal time 240 us recorded!\n",
      "Anneal time 250 us recorded!\n",
      "Anneal time 260 us recorded!\n",
      "Anneal time 270 us recorded!\n",
      "Anneal time 280 us recorded!\n",
      "Anneal time 290 us recorded!\n",
      "Anneal time 300 us recorded!\n",
      "Anneal time 10 us recorded!\n",
      "Anneal time 20 us recorded!\n",
      "Anneal time 30 us recorded!\n",
      "Anneal time 40 us recorded!\n",
      "Anneal time 50 us recorded!\n",
      "Anneal time 60 us recorded!\n",
      "Anneal time 70 us recorded!\n",
      "Anneal time 80 us recorded!\n",
      "Anneal time 90 us recorded!\n",
      "Anneal time 100 us recorded!\n",
      "Anneal time 110 us recorded!\n",
      "Anneal time 120 us recorded!\n",
      "Anneal time 130 us recorded!\n",
      "Anneal time 140 us recorded!\n",
      "Anneal time 150 us recorded!\n",
      "Anneal time 160 us recorded!\n",
      "Anneal time 170 us recorded!\n",
      "Anneal time 180 us recorded!\n",
      "Anneal time 190 us recorded!\n",
      "Anneal time 200 us recorded!\n",
      "Anneal time 210 us recorded!\n",
      "Anneal time 220 us recorded!\n",
      "Anneal time 230 us recorded!\n",
      "Anneal time 240 us recorded!\n",
      "Anneal time 250 us recorded!\n",
      "Anneal time 260 us recorded!\n",
      "Anneal time 270 us recorded!\n",
      "Anneal time 280 us recorded!\n",
      "Anneal time 290 us recorded!\n",
      "Anneal time 300 us recorded!\n"
     ]
    }
   ],
   "source": [
    "cs = 25\n",
    "\n",
    "def recordAnnealTime(annealRange, bqm, filepath: str):\n",
    "    \n",
    "    file = pd.DataFrame()\n",
    "    reads = 500\n",
    "\n",
    "    for a in annealRange:\n",
    "        sampleset = qa.sample(bqm, num_reads=reads, chain_strength=cs, annealing_time=a, label=f\"{IDENTIFIER}_{NUM}_at={a}\")\n",
    "        sample = sampleset.first\n",
    "\n",
    "        new_row = pd.DataFrame({\n",
    "            \"Anneal time\": [sampleset.info[\"timing\"][\"qpu_anneal_time_per_sample\"]],\n",
    "            \"QPU time\": [sampleset.info[\"timing\"][\"qpu_sampling_time\"]],\n",
    "            \"Chain strength\": [cs],\n",
    "            \"Total reads\": [reads],\n",
    "            \"Chain break fraction\": [sample.chain_break_fraction],\n",
    "            \"Lowest energy\": [bqm.energy(sample.sample)],\n",
    "            \"Total entropy\": [totalEntropy(sample.sample, G)]\n",
    "            })\n",
    "    \n",
    "        print(f\"Anneal time {a} us recorded!\")\n",
    "        file = pd.concat([file, new_row])\n",
    "\n",
    "    file.to_csv(filepath, index=False, mode=\"a\", header=False)\n",
    "\n",
    "# 10–300 repeated 3 times\n",
    "annealTimes = range(10,310,10)\n",
    "bqm = createBQM(G, phrases, instruments, 6, 6)\n",
    "\n",
    "for _ in range(2):\n",
    "    recordAnnealTime(annealTimes, bqm, dataPath+\"anneal-time.csv\")"
   ]
  },
  {
   "cell_type": "code",
   "execution_count": 8,
   "metadata": {},
   "outputs": [
    {
     "data": {
      "image/png": "[encoded data removed]",
      "text/plain": [
       "<Figure size 640x480 with 1 Axes>"
      ]
     },
     "metadata": {},
     "output_type": "display_data"
    }
   ],
   "source": [
    "plotCSV(dataPath+\"anneal-time.csv\", \"Anneal time\", \"Lowest energy\", \"tab:blue\")\n",
    "\n",
    "# ~200us optimal???"
   ]
  }
 ],
 "metadata": {
  "kernelspec": {
   "display_name": "Python 3",
   "language": "python",
   "name": "python3"
  },
  "language_info": {
   "codemirror_mode": {
    "name": "ipython",
    "version": 3
   },
   "file_extension": ".py",
   "mimetype": "text/x-python",
   "name": "python",
   "nbconvert_exporter": "python",
   "pygments_lexer": "ipython3",
   "version": "3.11.5"
  }
 },
 "nbformat": 4,
 "nbformat_minor": 2
}
