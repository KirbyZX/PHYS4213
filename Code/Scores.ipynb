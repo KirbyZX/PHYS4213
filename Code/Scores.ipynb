{
 "cells": [
  {
   "cell_type": "code",
   "execution_count": null,
   "metadata": {},
   "outputs": [],
   "source": [
    "IDENTIFIER = \"haydn-op1\"\n",
    "path = f\"../Pickles/{IDENTIFIER}/{IDENTIFIER}_\"\n",
    "\n",
    "from music21 import converter, instrument, stream, analysis, midi, stream\n",
    "from LBDM import calculateStrengths\n",
    "from plots import plotBoundaryStrength\n",
    "import matplotlib.pyplot as plt\n",
    "import networkx as nx\n",
    "\n",
    "import numpy as np\n",
    "import pandas as pd\n",
    "\n",
    "score = converter.parse(path + \"score.musicxml\")\n",
    "phrases = pd.read_csv(path + \"phrases.csv\", index_col=[0,1])\n",
    "G = nx.read_graphml(path + \"graph.graphml\")"
   ]
  },
  {
   "cell_type": "code",
   "execution_count": null,
   "metadata": {},
   "outputs": [],
   "source": [
    "#score.write(\"musicxml.pdf\", \"../Figures/beethoven-op67\", dpi=600)\n",
    "print(score.parts[0].measureNumber)"
   ]
  },
  {
   "cell_type": "code",
   "execution_count": null,
   "metadata": {},
   "outputs": [],
   "source": [
    "count = 0\n",
    "\n",
    "for part in score.parts:\n",
    "\n",
    "    df, thresh = calculateStrengths(part, .3, (0.33, 0.66))\n",
    "    plotBoundaryStrength(df, thresh)\n",
    "    plt.title(part.id)\n",
    "    \n",
    "    boundaries = len(df.query(\"IsBoundary\"))\n",
    "    print(boundaries)\n",
    "    count += boundaries\n",
    "    plt.show()\n",
    "\n",
    "print(count)"
   ]
  },
  {
   "cell_type": "code",
   "execution_count": null,
   "metadata": {},
   "outputs": [],
   "source": [
    "#score.measures(1, 124).show()\n",
    "score.measures(1, 124).write(fmt=\"musicxml\", fp=\"condensed\")"
   ]
  },
  {
   "cell_type": "code",
   "execution_count": null,
   "metadata": {},
   "outputs": [],
   "source": [
    "score.write(fmt=\"musicxml\", fp=\"no-chords\")"
   ]
  },
  {
   "cell_type": "code",
   "execution_count": null,
   "metadata": {},
   "outputs": [],
   "source": [
    "plt.figure(figsize=(12,12))\n",
    "pos = nx.spring_layout(G, weight=\"entropy\", k=.1)\n",
    "nx.draw(G, pos=pos, node_size=2, width=.1)"
   ]
  },
  {
   "cell_type": "code",
   "execution_count": null,
   "metadata": {},
   "outputs": [],
   "source": [
    "import itertools as iter\n",
    "\n",
    "print(len(phrases))\n",
    "\n",
    "#print(phrases.index.unique(0))\n",
    "\n",
    "print([i for i in phrases.index])\n",
    "#print(phrases[\"Start\"])\n",
    "print(phrases.loc[(\"Flute\", 1), \"Entropy\"])\n",
    "\n",
    "\n",
    "#for inst, new_df in phrases.groupby(level=0, sort=False):\n",
    "    #print(inst)\n",
    "    #print(new_df.index.get_level_values(1))\n"
   ]
  },
  {
   "cell_type": "code",
   "execution_count": null,
   "metadata": {},
   "outputs": [],
   "source": [
    "#score = converter.parse(path + \"score.musicxml\")\n",
    "\n",
    "df, threshold = calculateStrengths(score.parts[-2], (0.33,0.66))\n",
    "\n",
    "#saveToMidi(score, \"../67-edited.mid\")\n",
    "#score.write(fmt=\"musicxml\", fp=f\"../beethoven-op67.musicxml\")\n",
    "\n",
    "# TODO: Check what MIDI sounds like after arrangement (transposing instruments etc.)"
   ]
  },
  {
   "cell_type": "code",
   "execution_count": null,
   "metadata": {},
   "outputs": [],
   "source": [
    "# TODO: Save phrases within a stream (instead of pickle)\n",
    "\n",
    "bassoon = instrument.Bassoon()\n",
    "print(bassoon.lowestNote.ps, bassoon.highestNote)\n",
    "\n",
    "toy = converter.parse(\"tinyNotation: 4/4 r8 d' d' d' g' a' b' a' g2 r\")\n",
    "\n",
    "def shiftOctave(s: stream.Stream, o: int):\n",
    "    for n in s.recurse().notes:\n",
    "        n.octave += o\n",
    "\n",
    "p = analysis.discrete.Ambitus()\n",
    "pitchMin, pitchMax = p.getPitchSpan(toy)\n",
    "print(pitchMin)\n",
    "\n",
    "shiftOctave(toy, -2)\n",
    "toy.show()\n",
    "\n",
    "sp = midi.realtime.StreamPlayer(toy)\n",
    "sp.play()\n",
    "\n",
    "print(pitchMin)"
   ]
  },
  {
   "cell_type": "code",
   "execution_count": null,
   "metadata": {},
   "outputs": [],
   "source": [
    "score.write(fmt=\"musicxml\", fp=f\"../raiders\")"
   ]
  },
  {
   "cell_type": "code",
   "execution_count": null,
   "metadata": {},
   "outputs": [],
   "source": [
    "score = converter.parse(\"../Pickles/Beethoven/Beethoven_score.musicxml\")\n",
    "#saveToMidi(score, \"../Pickles/Beethoven/beethoven.mid\")\n",
    "\n",
    "new = stream.Score()\n",
    "\n",
    "for part in score.parts:\n",
    "\n",
    "    print(part.partName)\n",
    "    part.atSoundingPitch = True\n",
    "    print(part.atSoundingPitch)\n",
    "\n",
    "    voices = part.voicesToParts()\n",
    "    print(len(voices.parts))\n",
    "    if len(voices.parts) > 1:\n",
    "        part = part.voicesToParts().parts[0]\n",
    "\n",
    "    new.append(part)\n",
    "\n",
    "new.measures(1,7).show()\n",
    "saveToMidi(new, \"../Pickles/Beethoven/sounding_pitch.mid\")\n",
    "#new.write(fmt=\"musicxml\", fp=f\"../Pickles/Beethoven/beethoven.musicxml\")"
   ]
  }
 ],
 "metadata": {
  "kernelspec": {
   "display_name": "Python 3",
   "language": "python",
   "name": "python3"
  },
  "language_info": {
   "codemirror_mode": {
    "name": "ipython",
    "version": 3
   },
   "file_extension": ".py",
   "mimetype": "text/x-python",
   "name": "python",
   "nbconvert_exporter": "python",
   "pygments_lexer": "ipython3",
   "version": "3.11.5"
  }
 },
 "nbformat": 4,
 "nbformat_minor": 2
}
