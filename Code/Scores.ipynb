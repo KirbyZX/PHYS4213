{
 "cells": [
  {
   "cell_type": "code",
   "execution_count": null,
   "metadata": {},
   "outputs": [],
   "source": [
    "from music21 import converter, instrument, clef, stream, analysis, midi, stream\n",
    "from plotters import saveToMidi"
   ]
  },
  {
   "cell_type": "code",
   "execution_count": null,
   "metadata": {},
   "outputs": [],
   "source": [
    "# TODO: Save phrases within a stream (instead of pickle)\n",
    "\n",
    "bassoon = instrument.Bassoon()\n",
    "print(bassoon.lowestNote.ps, bassoon.highestNote)\n",
    "\n",
    "toy = converter.parse(\"tinyNotation: 4/4 r8 d' d' d' g' a' b' a' g2 r\")\n",
    "\n",
    "def shiftOctave(s: stream.Stream, o: int):\n",
    "    for n in s.recurse().notes:\n",
    "        n.octave += o\n",
    "\n",
    "p = analysis.discrete.Ambitus()\n",
    "pitchMin, pitchMax = p.getPitchSpan(toy)\n",
    "print(pitchMin)\n",
    "\n",
    "shiftOctave(toy, -2)\n",
    "toy.show()\n",
    "\n",
    "sp = midi.realtime.StreamPlayer(toy)\n",
    "sp.play()\n",
    "\n",
    "print(pitchMin)"
   ]
  },
  {
   "cell_type": "code",
   "execution_count": null,
   "metadata": {},
   "outputs": [
    {
     "data": {
      "text/plain": [
       "WindowsPath('c:/Users/Lucas/OneDrive - Durham University/PHYS4213/eroica.musicxml')"
      ]
     },
     "execution_count": 25,
     "metadata": {},
     "output_type": "execute_result"
    }
   ],
   "source": [
    "score = converter.parse(\"../eroica.mxl\")\n",
    "#score.measures(1,6).show()\n",
    "#saveToMidi(score, \"../eroica.mid\")\n",
    "score.write(fmt=\"musicxml\", fp=f\"../eroica.musicxml\")\n",
    "\n",
    "# TODO: Check what MIDI sounds like after arrangement (transposing instruments etc.)"
   ]
  },
  {
   "cell_type": "code",
   "execution_count": 22,
   "metadata": {},
   "outputs": [
    {
     "name": "stderr",
     "output_type": "stream",
     "text": [
      "musicxml.m21ToXml: WARNING: we are out of midi channels! help!\n"
     ]
    },
    {
     "data": {
      "text/plain": [
       "WindowsPath('c:/Users/Lucas/OneDrive - Durham University/PHYS4213/raiders.musicxml')"
      ]
     },
     "execution_count": 22,
     "metadata": {},
     "output_type": "execute_result"
    }
   ],
   "source": [
    "score.write(fmt=\"musicxml\", fp=f\"../raiders\")"
   ]
  },
  {
   "cell_type": "code",
   "execution_count": null,
   "metadata": {},
   "outputs": [],
   "source": [
    "score = converter.parse(\"../Pickles/Beethoven/Beethoven_score.musicxml\")\n",
    "#saveToMidi(score, \"../Pickles/Beethoven/beethoven.mid\")\n",
    "\n",
    "new = stream.Score()\n",
    "\n",
    "for part in score.parts:\n",
    "\n",
    "    print(part.partName)\n",
    "    part.atSoundingPitch = True\n",
    "    print(part.atSoundingPitch)\n",
    "\n",
    "    voices = part.voicesToParts()\n",
    "    print(len(voices.parts))\n",
    "    if len(voices.parts) > 1:\n",
    "        part = part.voicesToParts().parts[0]\n",
    "\n",
    "    new.append(part)\n",
    "\n",
    "new.measures(1,7).show()\n",
    "saveToMidi(new, \"../Pickles/Beethoven/sounding_pitch.mid\")\n",
    "#new.write(fmt=\"musicxml\", fp=f\"../Pickles/Beethoven/beethoven.musicxml\")"
   ]
  },
  {
   "cell_type": "code",
   "execution_count": null,
   "metadata": {},
   "outputs": [],
   "source": [
    "saveToMidi(new, \"../Pickles/Beethoven/beethoven.mid\")"
   ]
  },
  {
   "cell_type": "code",
   "execution_count": null,
   "metadata": {},
   "outputs": [],
   "source": [
    "print(len(score.parts[2].voices))\n",
    "cl = score.parts[2].voicesToParts()\n",
    "vl = score.parts[8].voicesToParts()\n",
    "print(len(cl.parts))\n",
    "print(len(vl.parts))\n",
    "#score.show(\"text\")\n",
    "#cl.show(\"text\")\n",
    "\n",
    "#saveToMidi(cl, \"../Pickles/Beethoven/cl.mid\")"
   ]
  },
  {
   "cell_type": "code",
   "execution_count": null,
   "metadata": {},
   "outputs": [],
   "source": [
    "score.flatten().notes.stream().show(\"midi\")"
   ]
  }
 ],
 "metadata": {
  "kernelspec": {
   "display_name": "Python 3",
   "language": "python",
   "name": "python3"
  },
  "language_info": {
   "codemirror_mode": {
    "name": "ipython",
    "version": 3
   },
   "file_extension": ".py",
   "mimetype": "text/x-python",
   "name": "python",
   "nbconvert_exporter": "python",
   "pygments_lexer": "ipython3",
   "version": "3.11.5"
  }
 },
 "nbformat": 4,
 "nbformat_minor": 2
}
