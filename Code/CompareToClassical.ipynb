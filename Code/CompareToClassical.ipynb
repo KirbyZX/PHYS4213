{
 "cells": [
  {
   "cell_type": "code",
   "execution_count": 15,
   "metadata": {},
   "outputs": [],
   "source": [
    "IDENTIFIER = \"beethoven-op67\"\n",
    "NUM = 4\n",
    "\n",
    "import matplotlib.pyplot as plt\n",
    "import json\n",
    "import networkx as nx\n",
    "import pandas as pd\n",
    "import numpy as np\n",
    "from dwave.system import DWaveSampler, FixedEmbeddingComposite\n",
    "from dwave.samplers import SteepestDescentSolver, SimulatedAnnealingSampler\n",
    "import dwave.inspector\n",
    "\n",
    "from plots import plotHistogram\n",
    "from qubo import createBQM\n",
    "from samples import totalEntropy, overlaps, duplicates\n",
    "\n",
    "picklePath = f\"../Pickles/{IDENTIFIER}/{IDENTIFIER}_\"\n",
    "numPath = f\"../Pickles/{IDENTIFIER}/{NUM}/{IDENTIFIER}_{NUM}_\"\n",
    "dataPath = f\"../Data/{IDENTIFIER}/{NUM}/{IDENTIFIER}_{NUM}_\"\n",
    "\n",
    "phrases = pd.read_csv(picklePath + \"phrases.csv\", index_col=[0,1])\n",
    "G = nx.read_graphml(picklePath + \"graph.graphml\")\n",
    "instruments = json.load(open(numPath + \"instruments.json\"))\n",
    "embedding = json.load(open(numPath + \"embedding.json\", \"r\"))"
   ]
  },
  {
   "cell_type": "code",
   "execution_count": 16,
   "metadata": {},
   "outputs": [
    {
     "name": "stdout",
     "output_type": "stream",
     "text": [
      "2000 reads recorded!\n",
      "2000 reads recorded!\n"
     ]
    }
   ],
   "source": [
    "cs = 30\n",
    "at = 200\n",
    "\n",
    "def recordEnergyReads(readRange, bqm, sampler, filepath: str, header: bool = False, quantum: bool = False):\n",
    "    \n",
    "    file = pd.DataFrame()\n",
    "    for r in readRange:\n",
    "\n",
    "        if quantum:\n",
    "            sampleset = sampler.sample(bqm, num_reads=r, chain_strength=cs, annealing_time=at,label=f\"{IDENTIFIER}_{r}_{cs}_{at}\")\n",
    "        else:\n",
    "            sampleset = sampler.sample(bqm, num_reads=r)\n",
    "        \n",
    "        sample = sampleset.first\n",
    "\n",
    "        if quantum:\n",
    "            new_row = pd.DataFrame({\n",
    "                \"Total reads\": [r],\n",
    "                \"Time\": [sampleset.info[\"timing\"][\"qpu_sampling_time\"]],\n",
    "                \"Chain strength\": [cs],\n",
    "                \"Chain break fraction\": [sample.chain_break_fraction],\n",
    "                \"Lowest energy\": [bqm.energy(sample.sample)],\n",
    "                \"Total entropy\": [totalEntropy(sample.sample, G)],\n",
    "                \"Overlaps\": [overlaps(sample.sample, G)],\n",
    "                \"Duplicates\": [duplicates(sample.sample, G)]\n",
    "                })\n",
    "        else:\n",
    "            new_row = pd.DataFrame({\n",
    "                \"Total reads\": [r],\n",
    "                \"Lowest energy\": [bqm.energy(sample.sample)],\n",
    "                \"Total entropy\": [totalEntropy(sample.sample, G)],\n",
    "                \"Time\": [sampleset.info[\"timing\"][\"sampling_ns\"]/1000],\n",
    "                \"Overlaps\": [overlaps(sample.sample, G)],\n",
    "                \"Duplicates\": [duplicates(sample.sample, G)]\n",
    "                })\n",
    "    \n",
    "        print(f\"{r} reads recorded!\")\n",
    "        file = pd.concat([file, new_row])\n",
    "\n",
    "    file.to_csv(filepath, index=False, mode=\"a\", header=header)\n",
    "\n",
    "bqm = createBQM(G, phrases, instruments, 6, 12, 1) # CHANGE\n",
    "qa = FixedEmbeddingComposite(DWaveSampler(), embedding)\n",
    "sa = SimulatedAnnealingSampler()\n",
    "sd = SteepestDescentSolver()\n",
    "\n",
    "# 200 to 2000 repeated\n",
    "readRange = np.arange(2000,2200,200)\n",
    "\n",
    "for _ in range(2):\n",
    "    recordEnergyReads(readRange, bqm, qa, dataPath+\"qa-reads.csv\", quantum=True, header=False)\n",
    "    #recordEnergyReads(readRange, bqm, sa, dataPath+\"sa-reads.csv\", quantum=False, header=False)\n",
    "    #recordEnergyReads(readRange, bqm, sd, dataPath+\"sd-reads.csv\", quantum=False, header=False)"
   ]
  },
  {
   "cell_type": "code",
   "execution_count": null,
   "metadata": {},
   "outputs": [],
   "source": [
    "reads = 1000\n",
    "\n",
    "qa = qa.sample(bqm, num_reads=reads, label=f\"Haydn_{reads}\").to_pandas_dataframe(True)\n",
    "sd = SteepestDescentSolver().sample(bqm, num_reads=reads).to_pandas_dataframe(True)\n",
    "sa = SimulatedAnnealingSampler().sample(bqm, num_reads=reads).to_pandas_dataframe(True)\n",
    "\n",
    "#random = RandomSampler().sample(bqm, num_reads=1000).to_pandas_dataframe(True)\n",
    "\n",
    "plt.subplot(3, 1, 1)\n",
    "plt.title(\"Annealing\")\n",
    "plotHistogram(qa)\n",
    "plt.subplot(3, 1, 2)\n",
    "plt.title(\"Steepest descent\")\n",
    "plotHistogram(sd)\n",
    "plt.subplot(3, 1, 3)\n",
    "plt.title(\"Simulated annealing\")\n",
    "plotHistogram(sa)\n",
    "\n",
    "plt.show()"
   ]
  },
  {
   "cell_type": "code",
   "execution_count": null,
   "metadata": {},
   "outputs": [],
   "source": [
    "sampleset = qa.sample(bqm, num_reads=1)\n",
    "print(sampleset.info[\"timing\"])\n",
    "#plotSampleGraph(sampleset.first.sample, G, instruments)\n",
    "#plotArrangement(sampleset.first.sample, phrases, instruments)"
   ]
  }
 ],
 "metadata": {
  "kernelspec": {
   "display_name": "Python 3",
   "language": "python",
   "name": "python3"
  },
  "language_info": {
   "codemirror_mode": {
    "name": "ipython",
    "version": 3
   },
   "file_extension": ".py",
   "mimetype": "text/x-python",
   "name": "python",
   "nbconvert_exporter": "python",
   "pygments_lexer": "ipython3",
   "version": "3.11.5"
  }
 },
 "nbformat": 4,
 "nbformat_minor": 2
}
