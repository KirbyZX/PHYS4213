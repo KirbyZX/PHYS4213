{
 "cells": [
  {
   "cell_type": "code",
   "execution_count": 2,
   "metadata": {},
   "outputs": [],
   "source": [
    "# Import libraries\n",
    "\n",
    "import networkx as nx\n",
    "import matplotlib.pyplot as plt\n",
    "\n",
    "import dwave_networkx as dnx # Extension of networkx\n",
    "from dwave.system import DWaveSampler, EmbeddingComposite\n",
    "import dimod"
   ]
  },
  {
   "cell_type": "code",
   "execution_count": 3,
   "metadata": {},
   "outputs": [],
   "source": [
    "# Define graph\n",
    "\n",
    "edges = [\n",
    "    (0,1),\n",
    "    (2,3), (2,1), (3,1),\n",
    "    (4,2),\n",
    "    (5,6),\n",
    "    (7,8), (7,6), (8,6),\n",
    "    (9,6),\n",
    "    (9,10), (9,11), (10,11), (10,6), (11,6),\n",
    "    (12,10), (12,11), (12,6),\n",
    "    (13,10), (13,11), (13,12),\n",
    "    (14,12), (14,13), (14,15),\n",
    "    (15,12), (15,13),\n",
    "    (16,15), (16,14), (16,12),\n",
    "    (17,16), (17,15), (17,14),\n",
    "    (18,17), (18,15), (18,14),\n",
    "    (20,19), (20,18), (20,17), (19,18), (19,17),\n",
    "    (21,20), (21,19), (21,17),\n",
    "    (25,24), (25,23), (25,22), (25,21), (24,23), (24,22), (24,21), (23,22), (23,21), (22,21)\n",
    "]\n",
    "\n",
    "G = nx.Graph()\n",
    "G.add_edges_from(edges)"
   ]
  },
  {
   "cell_type": "code",
   "execution_count": 11,
   "metadata": {},
   "outputs": [
    {
     "name": "stdout",
     "output_type": "stream",
     "text": [
      "BinaryQuadraticModel({0: -1.0, 1: -1.0, 2: -1.0, 3: -1.0, 4: -1.0, 5: -1.0, 6: -1.0, 7: -1.0, 8: -1.0, 9: -1.0, 10: -1.0, 11: -1.0, 12: -1.0, 13: -1.0, 14: -1.0, 15: -1.0, 16: -1.0, 17: -1.0, 18: -1.0, 20: -1.0, 19: -1.0, 21: -1.0, 25: -1.0, 24: -1.0, 23: -1.0, 22: -1.0}, {(1, 0): 2.0, (2, 1): 2.0, (3, 1): 2.0, (3, 2): 2.0, (4, 2): 2.0, (6, 5): 2.0, (7, 6): 2.0, (8, 6): 2.0, (8, 7): 2.0, (9, 6): 2.0, (10, 6): 2.0, (10, 9): 2.0, (11, 6): 2.0, (11, 9): 2.0, (11, 10): 2.0, (12, 6): 2.0, (12, 10): 2.0, (12, 11): 2.0, (13, 10): 2.0, (13, 11): 2.0, (13, 12): 2.0, (14, 12): 2.0, (14, 13): 2.0, (15, 12): 2.0, (15, 13): 2.0, (15, 14): 2.0, (16, 12): 2.0, (16, 14): 2.0, (16, 15): 2.0, (17, 14): 2.0, (17, 15): 2.0, (17, 16): 2.0, (18, 14): 2.0, (18, 15): 2.0, (18, 17): 2.0, (20, 17): 2.0, (20, 18): 2.0, (19, 17): 2.0, (19, 18): 2.0, (19, 20): 2.0, (21, 17): 2.0, (21, 20): 2.0, (21, 19): 2.0, (25, 21): 2.0, (24, 21): 2.0, (24, 25): 2.0, (23, 21): 2.0, (23, 25): 2.0, (23, 24): 2.0, (22, 21): 2.0, (22, 25): 2.0, (22, 24): 2.0, (22, 23): 2.0}, 0.0, 'BINARY')\n"
     ]
    }
   ],
   "source": [
    "# Define sampler and BQM\n",
    "0\n",
    "sampler = EmbeddingComposite(DWaveSampler())\n",
    "bqm = dimod.generators.maximum_independent_set(G.edges, G.nodes)\n",
    "\n",
    "print(bqm)"
   ]
  },
  {
   "cell_type": "code",
   "execution_count": null,
   "metadata": {},
   "outputs": [
    {
     "name": "stdout",
     "output_type": "stream",
     "text": [
      "   0  1  2  3  4  5  6  7  8  9 10 11 12 13 14 15 16 ... 25 energy num_oc. ...\n",
      "0  1  0  0  1  1  1  0  1  0  1  0  0  0  1  0  0  1 ...  0  -10.0       1 ...\n",
      "1  1  0  0  1  1  1  0  1  0  1  0  0  0  1  0  0  1 ...  0  -10.0       1 ...\n",
      "2  1  0  0  1  1  1  0  1  0  1  0  0  0  1  0  0  1 ...  0  -10.0       1 ...\n",
      "3  1  0  0  1  1  1  0  1  0  1  0  0  0  1  0  0  1 ...  0  -10.0       2 ...\n",
      "['BINARY', 4 rows, 5 samples, 26 variables]\n",
      "[0, 3, 4, 5, 8, 9, 13, 16, 19, 24]\n"
     ]
    }
   ],
   "source": [
    "# Solve for MIS\n",
    "\n",
    "sampleset = sampler.sample(bqm, num_reads = 5)\n",
    "indepNodes = dnx.maximum_independent_set(G, sampler, num_reads = 5)"
   ]
  },
  {
   "cell_type": "code",
   "execution_count": 14,
   "metadata": {},
   "outputs": [
    {
     "name": "stdout",
     "output_type": "stream",
     "text": [
      "   0  1  2  3  4  5  6  7  8  9 10 11 12 13 14 15 16 ... 25 energy num_oc. ...\n",
      "0  1  0  0  1  1  1  0  1  0  1  0  0  0  1  0  0  1 ...  0  -10.0       1 ...\n",
      "1  1  0  0  1  1  1  0  1  0  1  0  0  0  1  0  0  1 ...  0  -10.0       1 ...\n",
      "2  1  0  0  1  1  1  0  1  0  1  0  0  0  1  0  0  1 ...  0  -10.0       1 ...\n",
      "3  1  0  0  1  1  1  0  1  0  1  0  0  0  1  0  0  1 ...  0  -10.0       2 ...\n",
      "['BINARY', 4 rows, 5 samples, 26 variables]\n",
      "\n",
      "\n",
      "[0, 3, 4, 5, 8, 9, 13, 16, 19, 24]\n"
     ]
    }
   ],
   "source": [
    "print(sampleset)\n",
    "print('\\n')\n",
    "print(indepNodes)"
   ]
  },
  {
   "cell_type": "code",
   "execution_count": null,
   "metadata": {},
   "outputs": [],
   "source": []
  }
 ],
 "metadata": {
  "kernelspec": {
   "display_name": "Python 3",
   "language": "python",
   "name": "python3"
  },
  "language_info": {
   "codemirror_mode": {
    "name": "ipython",
    "version": 3
   },
   "file_extension": ".py",
   "mimetype": "text/x-python",
   "name": "python",
   "nbconvert_exporter": "python",
   "pygments_lexer": "ipython3",
   "version": "3.11.5"
  }
 },
 "nbformat": 4,
 "nbformat_minor": 2
}
